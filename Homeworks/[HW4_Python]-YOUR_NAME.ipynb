{
 "cells": [
  {
   "cell_type": "markdown",
   "id": "8f868eb6",
   "metadata": {},
   "source": [
    "# Homework 4 - Python\n",
    "\n",
    "First Name:\n",
    "\n",
    "Last Name:\n",
    "\n",
    "Group:\n",
    "\n",
    "### After the assigment is done, please, push it to your [private GitHub repository](https://docs.github.com/en/github/administering-a-repository/managing-repository-settings/setting-repository-visibility) and invite [Majid-Sohrabi](https://github.com/Majid-Sohrabi)  as [collaborator](https://docs.github.com/en/account-and-profile/setting-up-and-managing-your-github-user-account/managing-access-to-your-personal-repositories/inviting-collaborators-to-a-personal-repository)."
   ]
  },
  {
   "cell_type": "markdown",
   "id": "091e8e47",
   "metadata": {},
   "source": [
    "## Task 1 - Text to Emoji (1 point)\n",
    "\n",
    "Write a Python program that takes input text containing emotions and converts them into corresponding emojis. Your program should replace specific text representations of emotions with appropriate emoji symbols. (Do mapping of all emojis, also you can use demoji library) Your code should work for any text input\n",
    "\n",
    "\n",
    "\n",
    "  ```\n",
    "      **Sample Input Text:**\n",
    "      # My heart swells with happiness as I bask in the warmth of your presence, grateful for every moment shared together. Yet, a twinge of sadness tugs at my soul. Despite the challenges, I'm excited for the future, determined to overcome any obstacles that come our way.\n",
    "\n",
    "\n",
    "      **Output Example:**\n",
    "      My ❤️ swells with happiness as I bask in the warmth of your presence, grateful for every moment shared together. Yet, a twinge of 😞 tugs at my soul. Despite the challenges, I'm 😃 for the future, determined to overcome any obstacles that come our way.\n",
    "  ```"
   ]
  },
  {
   "cell_type": "code",
   "execution_count": null,
   "id": "4d4a5e5f",
   "metadata": {},
   "outputs": [],
   "source": [
    "<YOUR CODE>"
   ]
  },
  {
   "cell_type": "code",
   "execution_count": null,
   "id": "12312c40",
   "metadata": {},
   "outputs": [],
   "source": []
  },
  {
   "cell_type": "markdown",
   "id": "8d80e4ad",
   "metadata": {},
   "source": [
    "## Task 2 - Book Dataset (1 point)\n",
    "\n",
    "Using, Python and various libraries read the .txt files containing the books, the ratings, and the user data that you can find at the [urls](https://github.com/Majid-Sohrabi/2025_Python_Cognitive/tree/main/Datasets) defined below.\n",
    "\n",
    "1. Concatenate all three files into a single .txt file (Your task is to combine the information from three separate text files into a single cohesive dataset).\n",
    "The resulting dataset should contain all relevant information from each file, merged together appropriately. save the newly generated file as ***YOURNAME_BOOKS_DATA.txt***. (use comma seprated value)\n",
    "\n",
    "2. Find out which book has the highest number of reviews and which has lowest number of reviews? (just print it in your code cell).\n",
    "\n",
    "3. Find out which book has the highest average rating - but include only books that have at least 100 reviews!\n",
    "\n",
    "4. From the YOURNAME_BOOKS_DATA.txt generate a list of all the countries present in the dataset. Then, find the highest rated book in each one of those countries. (Each book/Country) and simply print it\n",
    "\n",
    "\n",
    "Full Datasets available on this: [Dataset URL](https://github.com/Majid-Sohrabi/2025_Python_Cognitive/tree/main/Datasets) or you can use below code cell to call dataset\n",
    "\n",
    "1.   **users.txt**: Contains information about users, including their *user ID, age, and country*.\n",
    "2.   **ratings.txt**: Contains information about book ratings given by users, including the *user ID, ISBN of the book, and the rating* given.\n",
    "3.   **books.txt**: Contains information about books, including the *ISBN, title, and author*."
   ]
  },
  {
   "cell_type": "code",
   "execution_count": null,
   "id": "ccfea82f",
   "metadata": {},
   "outputs": [],
   "source": [
    "users_url = \"https://github.com/Majid-Sohrabi/2025_Python_Cognitive/blob/main/Datasets/users.txt\"\n",
    "ratings_url = \"https://github.com/Majid-Sohrabi/2025_Python_Cognitive/blob/main/Datasets/ratings.txt\"\n",
    "books_url = \"https://github.com/Majid-Sohrabi/2025_Python_Cognitive/blob/main/Datasets/books.txt\""
   ]
  },
  {
   "cell_type": "code",
   "execution_count": null,
   "id": "2bf87979",
   "metadata": {},
   "outputs": [],
   "source": [
    "<YOUR CODE>"
   ]
  },
  {
   "cell_type": "code",
   "execution_count": null,
   "id": "c020ad15",
   "metadata": {},
   "outputs": [],
   "source": []
  },
  {
   "cell_type": "markdown",
   "id": "520886d8",
   "metadata": {},
   "source": [
    "## Task 3 - Automating University Admission Process (1.5 point)\n",
    "\n",
    "Develop a Python program using OOP to automate the admission process for a university based on the marks scored in a qualifying exam. Each student is represented by a unique student ID, along with their age and marks obtained in the exam.\n",
    "\n",
    "**Data Validity Criteria:**\n",
    "\n",
    "1. **Age:** The age of the student must be greater than 17 years.\n",
    "2. **Marks:** The marks obtained by the student must be within the range of 0 to 100 (both inclusive).\n",
    "\n",
    "**Admission Qualification Criteria:**\n",
    "\n",
    "A student qualifies for admission if the following conditions are met:\n",
    "\n",
    "1. The age and marks of the student are valid according to the criteria mentioned above.\n",
    "2. The marks obtained by the student are 35 or more.\n",
    "\n",
    "**Scholarship Calculation:**\n",
    "\n",
    "Based on the marks obtained by the student, the following scholarship percentages are applicable:\n",
    "\n",
    "*   96-100: 100% Scholarship\n",
    "*   86-95: 75% Scholarship\n",
    "*   76-85: 50% Scholarship\n",
    "*   60-75: 20% Scholarship\n",
    "*   50-60: 10% Scholarship\n",
    "*   Below 50: No scholarship; full tuition fees apply.\n",
    "\n",
    "\n",
    "Write a python program to represent the students seeking admission in the university with atleast 5 students input test"
   ]
  },
  {
   "cell_type": "code",
   "execution_count": null,
   "id": "17ceeaaf",
   "metadata": {},
   "outputs": [],
   "source": [
    "<YOUR CODE>"
   ]
  },
  {
   "cell_type": "code",
   "execution_count": null,
   "id": "dc0d6aa9",
   "metadata": {},
   "outputs": [],
   "source": []
  },
  {
   "cell_type": "markdown",
   "id": "294a59a5",
   "metadata": {},
   "source": [
    "## Task 4 - TollBooth (1.5 point)\n",
    "\n",
    "Imagine a tollbooth at a bridge. Vehicle passing by the booth are expected to pay or freely pass with a toll fee based on their vehicle type:\n",
    "\n",
    "\n",
    "*   **Bikes, Two-Wheeler and Scooter** pass for **free** (pay no toll).\n",
    "*   **Cars** are charged **500 rubles**.\n",
    "*   **Trucks/Buses** are charged **1200 rubles**.\n",
    "*   **Heavy-duty equipment vehicles** are charged **1500 rubles**.\n",
    "\n",
    "\n",
    "The tollbooth keeps track of the number of vehicles that have passed and the total amount of money collected.\n",
    "\n",
    "Model this tollbooth with a class called ***TollBooth***. The two data items are an unsigned integer to hold the total number of vehicles and an integer to hold the total amount of money collected. A constructor initializes both of these to zero.\n",
    "\n",
    "Implement the following member functions:\n",
    "\n",
    "1. **payVehicle(int toll)**: Increments the vehicle total and adds the specified toll amount to the cash total.\n",
    "2. **noPayVehicle()**: Increments the vehicle total but adds nothing to the cash total.\n",
    "3. **display()**: Displays the total number of vehicles and the total amount of money collected.\n",
    "\n",
    "Create an object of this class in the main function. Continuously display a menu to the user, allowing them to choose the type of vehicle passing by. Update the tollbooth accordingly and display the total statistics. Keep displaying the menu until the user chooses to exit the program."
   ]
  },
  {
   "cell_type": "code",
   "execution_count": null,
   "id": "eab905e7",
   "metadata": {},
   "outputs": [],
   "source": [
    "<YOUR CODE>"
   ]
  },
  {
   "cell_type": "code",
   "execution_count": null,
   "id": "8faad5b7",
   "metadata": {},
   "outputs": [],
   "source": []
  },
  {
   "cell_type": "markdown",
   "id": "5cd18fef",
   "metadata": {},
   "source": [
    "## Task 5 - Coding Challenge Practice (1 point)\n",
    "\n",
    "**Challenge 1:** Below is a list of Famous personalities in the world."
   ]
  },
  {
   "cell_type": "code",
   "execution_count": null,
   "id": "763c981a",
   "metadata": {},
   "outputs": [],
   "source": [
    "presidents_full = [\"Michael Jackson\", \"Nelson Mandela\", \"Albert Einstein\", \"Mahatma Gandhi\", \"Yuri Gagarin\", \\\n",
    "        \"Marilyn Monroe\", \"Anne Frank\", \"Thomas Alva Edison\", \"Narendra Modi\", \"Neil Armstrong\", \\\n",
    "        \"J.K.Rowling\", \"Leo Tolstoy\", \"Henry Ford\", \"Pablo Picasso\", \"Steve Jobs\", \\\n",
    "        \"Abraham Lincoln\", \"Cristiano Ronaldo\", \"Magnus Carlsen\", \"Alexander Pushkin\", \"Donald Trump\", \\\n",
    "        \"Charlie Chaplin\", \"Leonardo Da Vinci\", \"Leonardo DiCaprio\", \"Jackie Chan\", \"Stephen Hawking\", \\\n",
    "        \"Osho Rajneesh\", \"John Cena\", \"Bernard Arnault\", \"Mark Twain\", \"Usain Bolt\", \\\n",
    "        \"Bruce Lee\", \"Jalāl al-Dīn Muḥammad Rumi\", \"Alex Ovechkin\", \"Elon Musk\", \"John F. Kennedy\", \\\n",
    "        \"James Stephen\", \"Richard Branson\", \"Michael Phelps\", \"Jeff Bezos\", \"Ken Jeong\", \"Swami Vivekananda\", \\\n",
    "        \"Bill Clinton\", \"Daniil Medvedev\", \"Mother Teresa\"]"
   ]
  },
  {
   "cell_type": "markdown",
   "id": "d7e2d750",
   "metadata": {},
   "source": [
    "Create a new list that contains only the last name of each person."
   ]
  },
  {
   "cell_type": "code",
   "execution_count": null,
   "id": "41c96c63",
   "metadata": {},
   "outputs": [],
   "source": [
    "<YOUR CODE>"
   ]
  },
  {
   "cell_type": "markdown",
   "id": "f4a102ea",
   "metadata": {},
   "source": [
    "Create a list of all the personalities whose First name starts with the letter M."
   ]
  },
  {
   "cell_type": "code",
   "execution_count": null,
   "id": "00cbfdbf",
   "metadata": {},
   "outputs": [],
   "source": [
    "<YOUR CODE>"
   ]
  },
  {
   "cell_type": "markdown",
   "id": "bf9fe04b",
   "metadata": {},
   "source": [
    "**Challenge 2:** Fill in the blanks in each of the programs below to produce the indicated result."
   ]
  },
  {
   "cell_type": "code",
   "execution_count": null,
   "id": "abf397e2",
   "metadata": {},
   "outputs": [],
   "source": [
    "# Total length of the strings in the list: [\"red\", \"green\", \"blue\"] => 12\n",
    "total = 0\n",
    "for word in [\"red\", \"green\", \"blue\"]:\n",
    "    ____ = ____ + len(word)\n",
    "print(total)"
   ]
  },
  {
   "cell_type": "code",
   "execution_count": null,
   "id": "540ce44f",
   "metadata": {},
   "outputs": [],
   "source": [
    "# List of word lengths: [\"red\", \"green\", \"blue\"] => [3, 5, 4]\n",
    "lengths = ____\n",
    "for word in [\"red\", \"green\", \"blue\"]:\n",
    "    lengths.____(____)\n",
    "print(lengths)"
   ]
  },
  {
   "cell_type": "code",
   "execution_count": null,
   "id": "130b6ec5",
   "metadata": {},
   "outputs": [],
   "source": [
    "# Concatenate all words: [\"red\", \"green\", \"blue\"] => \"redgreenblue\"\n",
    "words = [\"red\", \"green\", \"blue\"]\n",
    "result = ____\n",
    "for ____ in ____:\n",
    "    ____\n",
    "print(result)"
   ]
  },
  {
   "cell_type": "code",
   "execution_count": null,
   "id": "c1f1c9f8",
   "metadata": {},
   "outputs": [],
   "source": []
  }
 ],
 "metadata": {
  "kernelspec": {
   "display_name": "Python 3 (ipykernel)",
   "language": "python",
   "name": "python3"
  },
  "language_info": {
   "codemirror_mode": {
    "name": "ipython",
    "version": 3
   },
   "file_extension": ".py",
   "mimetype": "text/x-python",
   "name": "python",
   "nbconvert_exporter": "python",
   "pygments_lexer": "ipython3",
   "version": "3.10.9"
  }
 },
 "nbformat": 4,
 "nbformat_minor": 5
}
