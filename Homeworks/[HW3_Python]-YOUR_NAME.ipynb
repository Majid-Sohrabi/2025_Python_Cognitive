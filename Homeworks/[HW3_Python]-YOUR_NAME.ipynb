{
 "cells": [
  {
   "cell_type": "markdown",
   "id": "8f868eb6",
   "metadata": {},
   "source": [
    "# Homework 3 - Python\n",
    "\n",
    "First Name:\n",
    "\n",
    "Last Name:\n",
    "\n",
    "Group:\n",
    "\n",
    "### After the assigment is done, please, push it to your [private GitHub repository](https://docs.github.com/en/github/administering-a-repository/managing-repository-settings/setting-repository-visibility) and invite [Majid-Sohrabi](https://github.com/Majid-Sohrabi)  as [collaborator](https://docs.github.com/en/account-and-profile/setting-up-and-managing-your-github-user-account/managing-access-to-your-personal-repositories/inviting-collaborators-to-a-personal-repository)."
   ]
  },
  {
   "cell_type": "markdown",
   "id": "f541157a",
   "metadata": {},
   "source": [
    "## Task 1  (0.5 points) - Frequency of the words\n",
    "\n",
    "You're task is to creat a Python program that analyzes a piece of text and provides the frequency of each word in it. The program should use a user-defined function that takes the text as input and returns a dictionary where the keys are the words in the text and the values are the frequencies of those words. Also, print most frequent word in text.\n",
    "\n",
    "Your program should allow the user to input any text and then display the word frequency dictionary."
   ]
  },
  {
   "cell_type": "code",
   "execution_count": null,
   "id": "79dc0c82",
   "metadata": {},
   "outputs": [],
   "source": [
    "<YOUR CODE>"
   ]
  },
  {
   "cell_type": "code",
   "execution_count": null,
   "id": "4d11c137",
   "metadata": {},
   "outputs": [],
   "source": []
  },
  {
   "cell_type": "markdown",
   "id": "8a83cb07",
   "metadata": {},
   "source": [
    "## Task 2 (1 point) - Build a Sorted Shopping List from Store Inventory\n",
    "\n",
    "You are given an inventory of items available in a shopping market, represented as a Python dictionary, where:\n",
    "\n",
    "- **Keys** are item names (as strings).\n",
    "- **Values** are the quantities available (as integers).\n",
    "\n",
    "Your task is to write a Python program that allows a user to create a shopping list based on this inventory.\n",
    "\n",
    "**Program Requirements**\n",
    "\n",
    "1. Prompt the user to enter the names of the items they want to buy, one at a time.\n",
    "2. For each item:\n",
    "    - Check if the item exists in the inventory.\n",
    "    - If it exists, add it to the user's shopping list.\n",
    "    - If it does not exist, inform the user that the item is not available.\n",
    "    \n",
    "3. Let the user signal they are done by typing something like `\"done\"` or leaving the input empty.\n",
    "4. Once all items have been entered:\n",
    "    - **Sort** the shopping list alphabetically.\n",
    "    - **Display** the sorted shopping list to the user."
   ]
  },
  {
   "cell_type": "code",
   "execution_count": null,
   "id": "7ab6dc20",
   "metadata": {},
   "outputs": [],
   "source": [
    "inventory = {\n",
    "    'apple': 30, 'banana': 50, 'orange': 40, 'grapes': 25, 'watermelon': 10, 'pineapple': 15,\n",
    "    'mango': 20, 'kiwi': 18, 'papaya': 12, 'strawberry': 22, 'blueberry': 14, 'peach': 16,\n",
    "    'cherry': 9, 'broccoli': 35, 'carrot': 60, 'spinach': 45, 'tomato': 80, 'potato': 100,\n",
    "    'onion': 90, 'garlic': 50, 'cabbage': 30, 'lettuce': 28, 'cauliflower': 22, 'cucumber': 40,\n",
    "    'bell pepper': 34, 'milk': 55, 'cheese': 20, 'yogurt': 25, 'butter': 18, 'eggs': 70,\n",
    "    'bread': 65, 'rice': 75, 'pasta': 40, 'flour': 60, 'sugar': 50, 'salt': 45, 'cereal': 38,\n",
    "    'oil': 30, 'tea': 40, 'coffee': 35, 'juice': 42, 'soda': 50, 'water bottle': 100, 'cookies': 48,\n",
    "    'chips': 55, 'chocolate': 33, 'candy': 27, 'toothpaste': 25, 'soap': 30, 'shampoo': 20, 'tissue': 40,\n",
    " 'detergent': 35, 'cleaner': 22, 'toilet paper': 60, 'dish soap': 18, 'aluminum foil': 15, 'plastic wrap': 17\n",
    "}"
   ]
  },
  {
   "cell_type": "code",
   "execution_count": null,
   "id": "4476bd86",
   "metadata": {},
   "outputs": [],
   "source": [
    "<YOUR CODE>"
   ]
  },
  {
   "cell_type": "code",
   "execution_count": null,
   "id": "fedc26d7",
   "metadata": {},
   "outputs": [],
   "source": []
  },
  {
   "cell_type": "markdown",
   "id": "273878e6",
   "metadata": {},
   "source": [
    "## Task 3  - Sorting (1 point)\n",
    "\n",
    "1) Print exams' and its dates in alphabetical order (A -> Z) by the name of the course.\n",
    "2) Print exams' and its dates in reversed alphabetical order (Z -> A) by the name of the course.\n",
    "3) Print exams and its dates in chronological order from the earliest to the latest.\n",
    "4) Print exams and its dates in chronological order from the latest to the earliest.\n",
    "5) Display the earliest exam's date and its course name.\n",
    "6) Display the latest exam's date and its course name.\n",
    "7) For each date print the exams that will be held on this day. If there are several exams, print then in alphabetical order. E.g.\n",
    "\n",
    "```\n",
    "21-06-2022\n",
    "Chinese\n",
    "Japanese\n",
    "Korean\n",
    "25-06-2002\n",
    "English\n",
    "```"
   ]
  },
  {
   "cell_type": "code",
   "execution_count": null,
   "id": "c0d5fb59",
   "metadata": {},
   "outputs": [],
   "source": [
    "exam_dates = {'Economics': '18-06-2022',\n",
    "              'Japanese': '21-06-2022',\n",
    "              'Korean': '21-06-2022',\n",
    "              'Chinese': '21-06-2022',\n",
    "              'English': '25-06-2022',\n",
    "              'Programming in Python': '27-06-2022',\n",
    "              'Regional Studies': '28-07-2022'}"
   ]
  },
  {
   "cell_type": "code",
   "execution_count": null,
   "id": "20b0e373",
   "metadata": {},
   "outputs": [],
   "source": [
    "<YOUR CODE>"
   ]
  },
  {
   "cell_type": "code",
   "execution_count": null,
   "id": "3776e068",
   "metadata": {},
   "outputs": [],
   "source": []
  },
  {
   "cell_type": "markdown",
   "id": "e9105b92",
   "metadata": {},
   "source": [
    "## Task 4 - Validate Date  (1 point)\n",
    "\n",
    "Develop a Python function called **isValidDate(year, month, day)** that takes three integers as input representing a *year, month, and day*, respectively. The function should return **True** if the provided integers represent a valid date and **False** otherwise.\n",
    "\n",
    "Guidelines:\n",
    "\n",
    "\n",
    "1.   Ensure that the month is within the range 1 to 12, otherwise return **False**.\n",
    "\n",
    "2.   Check if the day is within the valid range for the given month:\n",
    "\n",
    "*   For months 4, 6, 9 or 11, the maximum day is 30.\n",
    "*   For February (month 2), the maximum day is 28 (or 29 on leap years), If it's a leap year and February has 29 days, return **True**.\n",
    "*   For all other months, the maximum day is 31.\n",
    "*   Return False otherwise.\n",
    "\n",
    "\n",
    "> Example\n",
    "\n",
    "*   isValidDate(1999, 12, 31) == True\n",
    "*   isValidDate(2029, 13, 1) == False ( There is no 13th Month in calendar)"
   ]
  },
  {
   "cell_type": "code",
   "execution_count": null,
   "id": "3d8c58a1",
   "metadata": {},
   "outputs": [],
   "source": [
    "<YOUR CODE>"
   ]
  },
  {
   "cell_type": "code",
   "execution_count": null,
   "id": "fcf6613e",
   "metadata": {},
   "outputs": [],
   "source": []
  },
  {
   "cell_type": "markdown",
   "id": "da04bd0f",
   "metadata": {},
   "source": [
    "## Task 5 - CAPTCHA Generator (0.5 point)\n",
    "\n",
    "Write a Python program to generate CAPTCHA strings. CAPTCHA is used to determine whether the user is a human or a robot. Your task is to generate a random CAPTCHA string consisting of 8 to 12 characters each time the program is run. The CAPTCHA string must contain a mix of uppercase letters, lowercase letters, numbers, and special (: ~!@#$%^&*()_+) characters. (All must need to come in single CAPTCHA at a time)"
   ]
  },
  {
   "cell_type": "code",
   "execution_count": null,
   "id": "e1078836",
   "metadata": {},
   "outputs": [],
   "source": [
    "<YOUR CODE>"
   ]
  },
  {
   "cell_type": "code",
   "execution_count": null,
   "id": "ec1d704b",
   "metadata": {},
   "outputs": [],
   "source": []
  }
 ],
 "metadata": {
  "kernelspec": {
   "display_name": "Python 3 (ipykernel)",
   "language": "python",
   "name": "python3"
  },
  "language_info": {
   "codemirror_mode": {
    "name": "ipython",
    "version": 3
   },
   "file_extension": ".py",
   "mimetype": "text/x-python",
   "name": "python",
   "nbconvert_exporter": "python",
   "pygments_lexer": "ipython3",
   "version": "3.10.9"
  }
 },
 "nbformat": 4,
 "nbformat_minor": 5
}
