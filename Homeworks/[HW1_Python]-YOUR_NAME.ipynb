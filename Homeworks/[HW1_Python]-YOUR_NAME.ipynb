{
 "cells": [
  {
   "cell_type": "markdown",
   "id": "8f868eb6",
   "metadata": {},
   "source": [
    "# Homework 1 - Python\n",
    "\n",
    "First Name:\n",
    "\n",
    "Last Name:\n",
    "\n",
    "Group:\n",
    "\n",
    "### After the assigment is done, please, push it to your [private GitHub repository](https://docs.github.com/en/github/administering-a-repository/managing-repository-settings/setting-repository-visibility) and invite [Majid-Sohrabi](https://github.com/Majid-Sohrabi)  as [collaborator](https://docs.github.com/en/account-and-profile/setting-up-and-managing-your-github-user-account/managing-access-to-your-personal-repositories/inviting-collaborators-to-a-personal-repository)."
   ]
  },
  {
   "cell_type": "markdown",
   "id": "01fa1cac",
   "metadata": {},
   "source": [
    "## Task 1. Calculate BMI (Body Mass Index) - (0.5 point)\n",
    "\n",
    "Write a program to calculate the Body Mass Index (BMI) of the following participants using the formula:\n",
    "\n",
    "$$\n",
    "  BMI = \\frac{weight(kg)}{(height(m))^2}\n",
    "$$\n",
    "\n",
    "**Participant 1**  \n",
    "weight: 84  \n",
    "height: 150  \n",
    "  \n",
    "**Participant 2**  \n",
    "weight: 100  \n",
    "height: 199\n",
    "\n",
    "**Participant 3**  \n",
    "weight: 60  \n",
    "height: 163"
   ]
  },
  {
   "cell_type": "code",
   "execution_count": null,
   "id": "cde80656",
   "metadata": {},
   "outputs": [],
   "source": [
    "<YOUR CODE>"
   ]
  },
  {
   "cell_type": "code",
   "execution_count": null,
   "id": "134c9b39",
   "metadata": {},
   "outputs": [],
   "source": []
  },
  {
   "cell_type": "markdown",
   "id": "6ca7ea66",
   "metadata": {},
   "source": [
    "## Task 2. Score Evaluation - (0.5 point)\n",
    "\n",
    "**Given:**  \n",
    "A participant answered 18 out of 25 questions correctly in a test.  \n",
    "\n",
    "**Task:**  \n",
    "1. Create variables correct_answers and total_questions to store the given values.\n",
    "2. Calculate the percentage of correct answers using the formula:  \n",
    "$$\n",
    "  \\frac{correct\\_answers}{total\\_questions} * 100\n",
    "$$\n",
    "3. Print the result in the format: `Test Score: xx.x%`."
   ]
  },
  {
   "cell_type": "code",
   "execution_count": null,
   "id": "ed6af789",
   "metadata": {},
   "outputs": [],
   "source": [
    "<YOUR CODE>"
   ]
  },
  {
   "cell_type": "code",
   "execution_count": null,
   "id": "376ad886",
   "metadata": {},
   "outputs": [],
   "source": []
  },
  {
   "cell_type": "markdown",
   "id": "8c4a7aa4",
   "metadata": {},
   "source": [
    "## Task 3. Calculate Alpha Wave Power - (0.5 point)\n",
    "\n",
    "**Given:**  \n",
    "The alpha wave power of a participant is measured as 25.4 µV² in the left hemisphere and 23.6 µV² in the right hemisphere.  \n",
    "\n",
    "**Task:**\n",
    "1. Create variables alpha_left and alpha_right to store the given values.  \n",
    "2. Calculate the average alpha power using the formula:   \n",
    "$$\n",
    "\\text{average_alpha_power} = \\frac{\\text{alpha_left} + \\text{alpha_right}}{2}\n",
    "$$\n",
    "3. Print the result in the format: `Average Alpha Power: xx.x µV²`."
   ]
  },
  {
   "cell_type": "code",
   "execution_count": null,
   "id": "6759d707",
   "metadata": {},
   "outputs": [],
   "source": [
    "<YOUR CODE>"
   ]
  },
  {
   "cell_type": "code",
   "execution_count": null,
   "id": "af616ac1",
   "metadata": {},
   "outputs": [],
   "source": []
  },
  {
   "cell_type": "markdown",
   "id": "2d95c16c",
   "metadata": {},
   "source": [
    "## Task 4. Alpha to Beta Power Ratio - (0.5 point)\n",
    "\n",
    "**Given:**  \n",
    "A participant has recorded EEG power values:\n",
    "\n",
    "- Alpha power: 22.32 µV²\n",
    "- Beta power: 15.1242 µV²  \n",
    "\n",
    "Task:\n",
    "\n",
    "1. Create variables alpha_power and beta_power with the given values.\n",
    "2. Calculate the alpha-to-beta power ratio using the formula:\n",
    "$$\n",
    "\\text{ratio} = \\frac{\\text{alpha_power}}{\\text{beta_power}}\n",
    "$$\n",
    "3. Round the value up to the 2nd number using the round() function\n",
    "3. Print the ratio in the format: `Alpha to Beta Power Ratio: x.xx`."
   ]
  },
  {
   "cell_type": "code",
   "execution_count": null,
   "id": "81a24d55",
   "metadata": {},
   "outputs": [],
   "source": [
    "<YOUR CODE>"
   ]
  },
  {
   "cell_type": "code",
   "execution_count": null,
   "id": "9b4c5444",
   "metadata": {},
   "outputs": [],
   "source": []
  },
  {
   "cell_type": "markdown",
   "id": "bf0d7efd",
   "metadata": {},
   "source": [
    "## Task 5. Power Ratio Across Frequency Bands - (0.5 point)\n",
    "\n",
    "**Given:**  \n",
    "The EEG power values (in µV²) for a participant are:\n",
    "- Delta (1–4 Hz): 10.5\n",
    "- Theta (4–8 Hz): 15.3\n",
    "- Alpha (8–12 Hz): 20.7\n",
    "- Beta (12–30 Hz): 25.1\n",
    "\n",
    "**Task:**  \n",
    "1. Create variables for the power values of each band: delta_power, theta_power, alpha_power, and beta_power.\n",
    "2. Calculate the percentage contribution of the alpha band using the formula:\n",
    "$$\n",
    "\\text{alpha_contribution} = \\left(\\frac{\\text{alpha_power}}{\\text{total_power}}\\right) \\times 100\n",
    "$$\n",
    "3. Print the total power and the alpha band percentage contribution in the format: `Alpha Band Contribution: xx.x%`."
   ]
  },
  {
   "cell_type": "code",
   "execution_count": null,
   "id": "7779a189",
   "metadata": {},
   "outputs": [],
   "source": [
    "<YOUR CODE>"
   ]
  },
  {
   "cell_type": "code",
   "execution_count": null,
   "id": "a7f0411e",
   "metadata": {},
   "outputs": [],
   "source": []
  },
  {
   "cell_type": "markdown",
   "id": "3a6c1b13",
   "metadata": {},
   "source": [
    "## Task 6. Energy Expenditure During Activity - (0.5 points)\n",
    "\n",
    "**Given:**  \n",
    "A participant burns 8 calories per minute while walking, and 12 calories per minute while running. The participant spent 30 minutes walking and 15 minutes running during a fitness test.\n",
    "\n",
    "**Task:**\n",
    "1. Create variables walk_calories, run_calories, walk_time, and run_time for the given values.\n",
    "2. Calculate the total calories burned\n",
    "3. Print the total calories burned in the format: `Total Calories Burned: xx`."
   ]
  },
  {
   "cell_type": "code",
   "execution_count": null,
   "id": "e27bb657",
   "metadata": {},
   "outputs": [],
   "source": [
    "<YOUR CODE>"
   ]
  },
  {
   "cell_type": "code",
   "execution_count": null,
   "id": "958b58d1",
   "metadata": {},
   "outputs": [],
   "source": []
  },
  {
   "cell_type": "markdown",
   "id": "d03af2f7",
   "metadata": {},
   "source": [
    "## Task 7 (0.5 point)\n",
    "\n",
    "Write a program that receives a positive integer `N` from the user, the task is to find following formula:\n",
    "\n",
    "$$\n",
    "1^2 + 2^3 + 3^2 + ... + N^2 (or N^3)\n",
    "$$\n",
    "\n",
    "1. If the number is odd then rais to the power of 2.\n",
    "2. If the numner is even then rais to the power of 3.\n",
    "\n",
    "\n",
    "Example:\n",
    "\n",
    "$$\n",
    "N = 5\n",
    "$$\n",
    "\n",
    "$$\n",
    "1^2 + 2^3 + 3^2 + 4^3 + 5^2 = (1 + 8 + 9 + 64 + 25) = 107\n",
    "$$\n"
   ]
  },
  {
   "cell_type": "code",
   "execution_count": null,
   "id": "53894434",
   "metadata": {},
   "outputs": [],
   "source": [
    "<YOUR CODE>"
   ]
  },
  {
   "cell_type": "markdown",
   "id": "89040ea7",
   "metadata": {},
   "source": [
    "## Task 8.  List Horizontal Rotation - (0.5 point)\n",
    "\n",
    "Write a python program to rotate the elements of an array with an arbitrary direction (left or right) and arbitrary number or elements.\n",
    "\n",
    "1. The user need to insert the term ('left' or 'right') which shows the direction of the rotation.\n",
    "2. The user need to insert the number d which specifies how many elements need to be rotated.\n",
    "\n",
    "Example:\n",
    "\n",
    "```\n",
    "List (array) = [1, 2, 3, 4, 5, 6, 7]\n",
    "\n",
    "if left shift by 2 elements:\n",
    "\n",
    "Ooutput = [3, 4, 5, 6, 7, 1, 2] \n",
    "```"
   ]
  },
  {
   "cell_type": "code",
   "execution_count": null,
   "id": "782170f2",
   "metadata": {},
   "outputs": [],
   "source": [
    "<YOUR CODE>"
   ]
  },
  {
   "cell_type": "code",
   "execution_count": null,
   "id": "f7862970",
   "metadata": {},
   "outputs": [],
   "source": []
  },
  {
   "cell_type": "markdown",
   "id": "154102c3",
   "metadata": {},
   "source": [
    "## Task 9. List Horizontal-Vertical Rotation - (1 point)\n",
    "\n",
    "Let's develop the idea from the task 8, now consider a 2D array, and you want to implement a program that not only shift to right or left, but also, it can shift up or down.\n",
    "\n",
    "In this scenario, the user need to insert four different arguments:\n",
    "\n",
    "1. Row shift or column shift? ('row' or 'column')\n",
    "\n",
    "2. Which direction? ('left', 'right' or 'top', 'down') \n",
    "\n",
    "3. Index of the column or row? (an integer index)\n",
    "\n",
    "4. How many elements need to be shifted? (integer number)"
   ]
  },
  {
   "cell_type": "code",
   "execution_count": null,
   "id": "1bd7e11a",
   "metadata": {},
   "outputs": [],
   "source": [
    "<YOUR CODE>"
   ]
  },
  {
   "cell_type": "code",
   "execution_count": null,
   "id": "e4cc2c1e",
   "metadata": {},
   "outputs": [],
   "source": []
  }
 ],
 "metadata": {
  "kernelspec": {
   "display_name": "Python 3 (ipykernel)",
   "language": "python",
   "name": "python3"
  },
  "language_info": {
   "codemirror_mode": {
    "name": "ipython",
    "version": 3
   },
   "file_extension": ".py",
   "mimetype": "text/x-python",
   "name": "python",
   "nbconvert_exporter": "python",
   "pygments_lexer": "ipython3",
   "version": "3.10.9"
  }
 },
 "nbformat": 4,
 "nbformat_minor": 5
}
