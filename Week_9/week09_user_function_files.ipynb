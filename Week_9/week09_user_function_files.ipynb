{
 "cells": [
  {
   "cell_type": "markdown",
   "metadata": {
    "id": "d8ShhvetFpA7"
   },
   "source": [
    "# Week 9: User Functions, Files"
   ]
  },
  {
   "cell_type": "markdown",
   "metadata": {},
   "source": [
    "# 1. User-defined functions in Python\n",
    "\n",
    "We use a lot of functions when we are programming. But often it is useful to define user's functions. Let's find out how to do that.\n",
    "\n",
    "``` python\n",
    "def name_of_the_function(parameters):\n",
    "  *some instructions*\n",
    "  return result\n",
    "```\n",
    "\n",
    "Above there is the schema for the function creation.\n",
    "* You need the keyword `def` to define your own function.\n",
    "* You need to name it with the same restrictions applicable to variables names: you cannot use spaces within the name; the name cannot start with a digit; it should not be the same as the name of existing Python's functions.\n",
    "* Then in parentheses you specify the number of parameters (arguments) that your function will take and to which local variables they will be assigned.\n",
    "* Then there is an indented block after the colon where you can specify any instructions you want.\n",
    "* The line with a keyword `return` is not mandatory, but you will have to write it if you want to use the result of function later (e.g. to assign it to a variable or to use in conditional statement, etc.).\n",
    "* We shouldn't call a function before defining one! It would lead to an error.\n",
    "\n",
    "Let's define our very first function."
   ]
  },
  {
   "cell_type": "markdown",
   "metadata": {},
   "source": [
    "Our function would be named `currency_converter`. It will take a number as an argument and will assign it to a `rub` variable. It will covert rubles to dollars according to an exchange rate 91.54 rubles per one dollar."
   ]
  },
  {
   "cell_type": "code",
   "execution_count": null,
   "metadata": {},
   "outputs": [],
   "source": [
    "def currency_converter(rub): # defining a function\n",
    "    dollars = rub / 93\n",
    "\n",
    "my_rubs = 200\n",
    "\n",
    "print(currency_converter(my_rubs)) # calling a function"
   ]
  },
  {
   "cell_type": "markdown",
   "metadata": {},
   "source": [
    "Hm, the code above produced nothing. Why? Because we did not get our function to return any result. Maybe we have to print `dollars` variable to get it?"
   ]
  },
  {
   "cell_type": "code",
   "execution_count": null,
   "metadata": {
    "scrolled": true
   },
   "outputs": [],
   "source": [
    "print(dollars)"
   ]
  },
  {
   "cell_type": "code",
   "execution_count": null,
   "metadata": {},
   "outputs": [],
   "source": [
    "# # How to access local variables in\n",
    "# # function, outside the function block\n",
    "\n",
    "# def currency_converter(rub): # defining a function\n",
    "#     global dollars\n",
    "#     dollars = rub / 93\n",
    "\n",
    "# my_rubs = 200\n",
    "\n",
    "# print(currency_converter(my_rubs)) # calling a function"
   ]
  },
  {
   "cell_type": "code",
   "execution_count": null,
   "metadata": {},
   "outputs": [],
   "source": [
    "# print(dollars)"
   ]
  },
  {
   "cell_type": "markdown",
   "metadata": {},
   "source": [
    "An error. The thing is that all the variables that we define within a function are called `local` variables because they don't exist outside of it. So the only way to get something out of function is to `return` it. Let's try adding new line to our function."
   ]
  },
  {
   "cell_type": "code",
   "execution_count": null,
   "metadata": {},
   "outputs": [],
   "source": [
    "def currency_converter(rub):\n",
    "    dollars = rub / 93\n",
    "    return round(dollars, 2) # return the variable value rounded to 2 digits after the dot\n",
    "\n",
    "my_rubs = 200\n",
    "print(currency_converter(my_rubs))"
   ]
  },
  {
   "cell_type": "markdown",
   "metadata": {},
   "source": [
    "Amazing! We can even assign the result produced by a function to a variable if we need to.\n",
    "\n",
    "Now let's speak about the parameters. We've specified that our function `currency_converter` takes one argument. What will happen if we try to pass no arguments or two arguments?"
   ]
  },
  {
   "cell_type": "code",
   "execution_count": null,
   "metadata": {},
   "outputs": [],
   "source": [
    "print(currency_converter()) # error saying that 1 argument is required"
   ]
  },
  {
   "cell_type": "code",
   "execution_count": null,
   "metadata": {},
   "outputs": [],
   "source": [
    "print(currency_converter(200, 10)) # error saying that there are too many arguments"
   ]
  },
  {
   "cell_type": "markdown",
   "metadata": {},
   "source": [
    "So basically when designing a function you specify the number of arguments it will take. You can specify more than one! You can even specify an indefinite amount of arguments. You can read about it [here](https://www.geeksforgeeks.org/args-kwargs-python/#:~:text=The%20special%20syntax%20*args%20in,used%20with%20the%20word%20args.). But once specified you cannot pass different amount of arguments to your function. Too less or too many would lead to an error.\n",
    "\n",
    "But how does Python know that our argument should be a number? It actually does not. You can try to pass a string to `currency_converter` and Python will throw an error that it cannot divide a string by a float when it comes to a calculation."
   ]
  },
  {
   "cell_type": "code",
   "execution_count": null,
   "metadata": {},
   "outputs": [],
   "source": [
    "print(currency_converter('100'))"
   ]
  },
  {
   "cell_type": "markdown",
   "metadata": {},
   "source": [
    "However, in some cases you may end up with functions that will be able to perfrorm the needed instructions to the 'wrong' datatype. So watch for this. Basically, the data type of function arguments is restricted only by the instructions that you specify inside the function.\n",
    "\n",
    "Assume that you wrote a function that you were planning to use to add two numbers together. However, it will work with two strings and even with two lists since `+` operator can be used for those data types as well."
   ]
  },
  {
   "cell_type": "code",
   "execution_count": null,
   "metadata": {},
   "outputs": [],
   "source": [
    "def sum_a_b(a, b):\n",
    "    return a + b\n",
    "\n",
    "print(sum_a_b(10, 4)) # sums two integers\n",
    "\n",
    "print(sum_a_b('10', '4')) # concatenates two strings\n",
    "\n",
    "print(sum_a_b([2, 4], ['cat', 'dog'])) # concatenates two lists"
   ]
  },
  {
   "cell_type": "markdown",
   "metadata": {},
   "source": [
    "By the way, we've just specified the function that takes two arguments! `sum_a_b` will throw an error if you will try to pass any number of argument that is not two.\n",
    "\n",
    "We can also specify a **default value** for an argument. In that case that default value would be used if that argument is not passed when calling the function.\n",
    "\n",
    "In the example `currency_converter_2` takes two arguments — amount of rubles and the exchange rate. If the rate is not passed, then default rate (93) would be used."
   ]
  },
  {
   "cell_type": "code",
   "execution_count": null,
   "metadata": {},
   "outputs": [],
   "source": [
    "def currency_converter_2(rub, rate=93): # specifying a default value\n",
    "    return round(rub / rate, 2)\n",
    "\n",
    "print(currency_converter_2(100, 70))\n",
    "print(currency_converter_2(100, 30))\n",
    "print(currency_converter_2(200)) # converting with a default rate"
   ]
  },
  {
   "cell_type": "markdown",
   "metadata": {},
   "source": [
    "There can be also the functions with no arguments and with no `return` keyword. Such functions are more exotic and are usually used to debug the code or check the progress when running the programs."
   ]
  },
  {
   "cell_type": "code",
   "execution_count": null,
   "metadata": {},
   "outputs": [],
   "source": [
    "def info():\n",
    "    print(f'The file was downloaded {cnt} times today')\n",
    "\n",
    "cnt = 17 # some global variable that would be accessed within a function\n",
    "info() # not using print() because function returns nothing and prints info by itself"
   ]
  },
  {
   "cell_type": "markdown",
   "metadata": {},
   "source": [
    "When to define your own function? Sometimes it is just neat to pack lengthy instructions that are expected to be called several times throughout a project into the short name. In other cases we need to define a function to pass it to other functions.\n",
    "\n",
    "E.g. let's write our own function to use with `map()`. Imagine that we have a list of ages of the respondents to the questionnaire. But some of them by mistake wrote the year of birth. Let's write a function that will check whether the age or YoB was inputted, and then convert the latter in the age by deducting it from the current year."
   ]
  },
  {
   "cell_type": "code",
   "execution_count": null,
   "metadata": {},
   "outputs": [],
   "source": [
    "def get_age(number):\n",
    "    if number > 1000: # checking that number is indeed YoB and not age\n",
    "        return 2025 - number # if yes then calculate the age\n",
    "    return number # if no then return number (age) unchanged\n",
    "\n",
    "answers = [26, 2005, 31, 15, 2003]\n",
    "print(list(map(get_age, answers)))"
   ]
  },
  {
   "cell_type": "markdown",
   "metadata": {},
   "source": [
    "In the example above we didn't use `else`. We actually could but it would be redundant. When a function hits `return`, it exits, no other code within that function would be executed. That is why we can bypass `else` in this case.\n",
    "\n",
    "We can also call a function within a function. Let's make our example a bit more complicated. Let's say that we are not interested in the age per se, but rather to see whether the respondent is a minor or not. Let's define the second function that would call `get_age()` within itself."
   ]
  },
  {
   "cell_type": "code",
   "execution_count": null,
   "metadata": {},
   "outputs": [],
   "source": [
    "def get_age(number): # defining the first function\n",
    "    if number > 1000:\n",
    "        return 2025 - number\n",
    "    return number\n",
    "\n",
    "def is_minor(age): # defining the second function that does the `minor check`\n",
    "    if get_age(age) >= 18: # before the comparison function get_age is called\n",
    "        return 'Not minor'\n",
    "    return 'Minor'\n",
    "\n",
    "answers = [26, 2010, 31, 15, 2003]\n",
    "print(list(map(is_minor, answers)))"
   ]
  },
  {
   "cell_type": "markdown",
   "metadata": {},
   "source": [
    "## Modules\n",
    "\n",
    "In the future we will use not only standard Python functions and our very own functions, but we will also import different `modules` — collections of the functions and variables to solve particular problems.\n",
    "\n",
    "To import a module we use `import` keyword and then specify a module name to import. Sometimes we will have to download the module first, but not now.\n",
    "\n",
    "Then to call a function or a variable from a module we will have to type a module's name, then put a dot and then call a function. All the functions and variables available in the module we can find in documentation. Below are few examples."
   ]
  },
  {
   "cell_type": "markdown",
   "metadata": {},
   "source": [
    "### Module math\n",
    "\n",
    "Collection of the most basic math functions and variables. Documentation is [here](https://docs.python.org/3/library/math.html)."
   ]
  },
  {
   "cell_type": "code",
   "execution_count": null,
   "metadata": {},
   "outputs": [],
   "source": [
    "import math # importing math\n",
    "\n",
    "print(math.log(10)) # calling logarithm function from math\n",
    "print(math.sqrt(10)) # calling square root function\n",
    "print(math.pi) # calling pi variable"
   ]
  },
  {
   "cell_type": "markdown",
   "metadata": {},
   "source": [
    "### Module calendar\n",
    "\n",
    "Collection of the basic calendar and dates related functions and variables. More [here](https://docs.python.org/3/library/calendar.html?highlight=calendar#module-calendar)."
   ]
  },
  {
   "cell_type": "code",
   "execution_count": null,
   "metadata": {},
   "outputs": [],
   "source": [
    "import calendar\n",
    "print(calendar.weekday(2025,3,11)) # calling a function that\n",
    "                                  # returns index of day of a week for a given date\n",
    "# Python is 0 index"
   ]
  },
  {
   "cell_type": "markdown",
   "metadata": {},
   "source": [
    "### Module string\n",
    "\n",
    "Formatting string operations and useful string variables. More [here](https://docs.python.org/3/library/string.html?highlight=string#module-string).\n",
    "\n",
    "Let's do a small example and clean the text from the punctuation symbols using the imported variable that contains all of them."
   ]
  },
  {
   "cell_type": "code",
   "execution_count": null,
   "metadata": {},
   "outputs": [],
   "source": [
    "import string\n",
    "\n",
    "print(string.punctuation) # punctiation variable consists all basic punctuation symbols\n",
    "\n",
    "text = \"hi, it's me!\" # our text to clean\n",
    "\n",
    "clean_text = '' # initiating an empty string to store a clean text\n",
    "for symbol in text:\n",
    "    if symbol not in string.punctuation: # if the symbol is not a punctuation then add it to the clean_text\n",
    "        clean_text += symbol\n",
    "\n",
    "print(clean_text) # print the text without punctuation"
   ]
  },
  {
   "cell_type": "code",
   "execution_count": null,
   "metadata": {},
   "outputs": [],
   "source": []
  },
  {
   "cell_type": "code",
   "execution_count": null,
   "metadata": {},
   "outputs": [],
   "source": []
  },
  {
   "cell_type": "code",
   "execution_count": null,
   "metadata": {},
   "outputs": [],
   "source": []
  },
  {
   "cell_type": "markdown",
   "metadata": {},
   "source": [
    "# 2. args & kwargs\n",
    "\n",
    "### *args\n",
    "\n",
    "- When we are not sure about the number of arguments being passed to a function then we can use *args as function parameter.\n",
    "- *args allow us to pass the variable number of Non Keyword Arguments to function.\n",
    "- We can simply use an asterisk * before the parameter name to pass variable length arguments.\n",
    "- The arguments are always passed as a tuple.\n",
    "- We can rename it to anything as long as it is preceded by a single asterisk (*). It's best practice to keep naming it args to make it immediately recognizable.\n",
    "\n",
    "### **kwargs\n",
    "\n",
    "- \\**kwargs allows us to pass the variable number of Keyword Arguments to the function.\n",
    "- We can simply use an double asterisk ** before the parameter name to pass variable length arguments.\n",
    "- The arguments are passed as a dictionary.\n",
    "- We can rename it to anything as long as it is preceded by a double asterisk (\\**). It's best practice to keep naming it kwargs to make it immediately recognizable.\n",
    "\n",
    "![pic.jpg](attachment:pic.jpg)"
   ]
  },
  {
   "cell_type": "code",
   "execution_count": null,
   "metadata": {},
   "outputs": [],
   "source": [
    "def add(a, b, c):\n",
    "    return a+b+c\n",
    "\n",
    "print(add(10,20,30)) # Sum of three numbers"
   ]
  },
  {
   "cell_type": "code",
   "execution_count": null,
   "metadata": {},
   "outputs": [],
   "source": [
    "'''\n",
    "This will throw below error as this function will only accept 3 elements.\n",
    "If we want to make argument list dynamic then *args will come in picture.\n",
    "'''\n",
    "\n",
    "print(add(1,2,3,4))"
   ]
  },
  {
   "cell_type": "code",
   "execution_count": null,
   "metadata": {},
   "outputs": [],
   "source": [
    "def some_args(arg_1, arg_2, arg_3):\n",
    "    print(\"arg_1:\", arg_1)\n",
    "    print(\"arg_2:\", arg_2)\n",
    "    print(\"arg_3:\", arg_3)\n",
    "    \n",
    "my_list = [2, 3]\n",
    "some_args(1, *my_list)"
   ]
  },
  {
   "cell_type": "code",
   "execution_count": null,
   "metadata": {},
   "outputs": [],
   "source": [
    "def add1(*args):\n",
    "    return sum(args)\n",
    "\n",
    "# *args will take dynamic argument list. So add1() function is open to accept as many arguments.\n",
    "print(add1(1,2,3))\n",
    "print(add1(1,2,3,4))\n",
    "print(add1(1,2,3,4,5))\n",
    "print(add1(1,2,3,4,5,6))\n",
    "print(add1(1,2,3,4,5,6,7))"
   ]
  },
  {
   "cell_type": "code",
   "execution_count": null,
   "metadata": {},
   "outputs": [],
   "source": [
    "list1 = [1,2,3,4,5,6,7]\n",
    "tuple1 = (1,2,3,4,5,6,7)\n",
    "\n",
    "#tuple & list items will be passed as argument\n",
    "add1(*list1) , add1(*tuple1)"
   ]
  },
  {
   "cell_type": "code",
   "execution_count": null,
   "metadata": {},
   "outputs": [],
   "source": [
    "list1 = [1,2,3,4,5,6,7]\n",
    "list2 = [1,2,3,4,5,6,7]\n",
    "list3 = [1,2,3,4,5,6,7]\n",
    "list4 = [1,2,3,4,5,6,7]\n",
    "\n",
    "add1(*list1 , *list2 , *list3 , *list4 )"
   ]
  },
  {
   "cell_type": "code",
   "execution_count": null,
   "metadata": {},
   "outputs": [],
   "source": [
    "'''\n",
    "For this example we have no idea about the parameters passed e.g 7412, 33\n",
    "In such cases we can take help of Keyworded arguments (**kwargs).\n",
    "'''\n",
    "\n",
    "def UserDetails(*args):\n",
    "    print(args)\n",
    "\n",
    "UserDetails('Asif' , 7412 , 41102 , 33 , 'India' , 'Hindi')"
   ]
  },
  {
   "cell_type": "code",
   "execution_count": null,
   "metadata": {},
   "outputs": [],
   "source": [
    "def UserDetails(**kwargs):\n",
    "    print(kwargs)\n",
    "    \n",
    "UserDetails(Name='Asif' , ID=7412 , Pincode=41102 , Age= 33 , Country= 'India', Language= 'Hindi')"
   ]
  },
  {
   "cell_type": "code",
   "execution_count": null,
   "metadata": {},
   "outputs": [],
   "source": [
    "def UserDetails(**kwargs):\n",
    "    for key, val in kwargs.items():\n",
    "        print(f\"{key} --> {val}\")\n",
    "        \n",
    "UserDetails(Name='Asif' , ID=7412 , Pincode=41102 , Age= 33 , Country= 'India', Language= 'Hindi')"
   ]
  },
  {
   "cell_type": "code",
   "execution_count": null,
   "metadata": {},
   "outputs": [],
   "source": [
    "# Let's use all four arguments\n",
    "\n",
    "# UserDetails(Positional argument, *args, Named arguments, **kwargs)\n",
    "def UserDetails(licenseNo, *args , phoneNo=0 , **kwargs):\n",
    "    print('License No --> ', licenseNo)\n",
    "    j = ''\n",
    "    for i in args:\n",
    "        j = j+i\n",
    "    print('Full Name -->', j)\n",
    "    print('Phone Number --> ', phoneNo)\n",
    "    for key, val in kwargs.items():\n",
    "        print(f\"{key} --> {val}\")\n",
    "\n",
    "name = ['Asif' , ' ' , 'Ali' , ' ','Bhat']\n",
    "mydict = {'Name': 'Asif', 'ID': 7412, 'Pincode': 41102, 'Age': 33, 'Country': 'India', 'Language': 'Hindi'}\n",
    "\n",
    "UserDetails('BHT145' , *name , phoneNo=1234567890, **mydict )"
   ]
  },
  {
   "cell_type": "code",
   "execution_count": null,
   "metadata": {},
   "outputs": [],
   "source": [
    "# *args shouldn't place before **kwargs\n",
    "\n",
    "def UserDetails(licenseNo, **kwargs , *args):\n",
    "    print('Nothing')"
   ]
  },
  {
   "cell_type": "code",
   "execution_count": null,
   "metadata": {},
   "outputs": [],
   "source": []
  },
  {
   "cell_type": "code",
   "execution_count": null,
   "metadata": {},
   "outputs": [],
   "source": []
  },
  {
   "cell_type": "code",
   "execution_count": null,
   "metadata": {},
   "outputs": [],
   "source": []
  },
  {
   "cell_type": "markdown",
   "metadata": {},
   "source": [
    "# 3. Working with Files in Python"
   ]
  },
  {
   "cell_type": "markdown",
   "metadata": {},
   "source": [
    "Reading and writing data to files using Python is pretty straightforward. To do this, you must first open files in the appropriate mode.\n",
    "\n",
    "`open()` takes a filename (e.g. some `.txt` file) and a mode as its arguments. `r` opens the file in read only mode. To write data to a file, pass in `w` as an argument instead, to append new text use `a`. In the following syntax, when you're finished with working with the file, you need to close it, applying the corresponding method."
   ]
  },
  {
   "cell_type": "code",
   "execution_count": null,
   "metadata": {},
   "outputs": [],
   "source": [
    "fh = open('test_file.txt', mode='w') # w - write\n",
    "fh.write('Hi!')\n",
    "fh.close()"
   ]
  },
  {
   "cell_type": "code",
   "execution_count": null,
   "metadata": {},
   "outputs": [],
   "source": [
    "fh = open('test_file.txt', mode='a') # a - append\n",
    "fh.write('How are you?')\n",
    "fh.close()"
   ]
  },
  {
   "cell_type": "markdown",
   "metadata": {},
   "source": [
    "Let's try to write several lines into our file using `\\n`"
   ]
  },
  {
   "cell_type": "code",
   "execution_count": null,
   "metadata": {},
   "outputs": [],
   "source": [
    "# file handle, infile\n",
    "fh = open('new_test_file.txt', mode='w')\n",
    "fh.write('Hi!\\n')\n",
    "fh.write('How are you?\\n')\n",
    "fh.write('Fine! Thank you!')\n",
    "fh.close()"
   ]
  },
  {
   "cell_type": "markdown",
   "metadata": {},
   "source": [
    "If you have already some data stored in a list, for example, you may write information into the file using for loop."
   ]
  },
  {
   "cell_type": "code",
   "execution_count": null,
   "metadata": {},
   "outputs": [],
   "source": [
    "students = ['Anna', 'Maria', 'Alexandra']\n",
    "fh = open('students.txt', mode='w')\n",
    "for name in students:\n",
    "    fh.write(name + '\\n')\n",
    "fh.close()"
   ]
  },
  {
   "cell_type": "markdown",
   "metadata": {},
   "source": [
    "Usually, it's better to define the encoding which you use for writing/reading the file in order not to get encoding problems. `UTF-8` is one of the most commonly used encodings, and Python often defaults to using it. UTF stands for “Unicode Transformation Format”, and the '8' means that 8-bit values are used in the encoding. (There are also `UTF-16` and `UTF-32` encodings, but they are less frequently used than `UTF-8`.)"
   ]
  },
  {
   "cell_type": "code",
   "execution_count": null,
   "metadata": {},
   "outputs": [],
   "source": [
    "fh = open('students.txt', mode='r', encoding='utf8') # r - reading\n",
    "x = fh.read()\n",
    "fh.close()"
   ]
  },
  {
   "cell_type": "code",
   "execution_count": null,
   "metadata": {},
   "outputs": [],
   "source": [
    "fh = open('students.txt', mode='r', encoding='utf8')\n",
    "for item in fh:\n",
    "    print(item, end='')\n",
    "    print('*'*10)\n",
    "fh.close()"
   ]
  },
  {
   "cell_type": "markdown",
   "metadata": {},
   "source": [
    "Here’s an example of how to use Python’s “with open(…) as …” pattern to open a text file and read its contents. It's more convenient to use this snippet of code as you don't need to close the file. “with open(…) as …” context manager will do it automatically."
   ]
  },
  {
   "cell_type": "code",
   "execution_count": null,
   "metadata": {},
   "outputs": [],
   "source": [
    "with open('students.txt') as fh:\n",
    "    print(fh.read())"
   ]
  },
  {
   "cell_type": "code",
   "execution_count": null,
   "metadata": {},
   "outputs": [],
   "source": [
    "with open('students.txt') as fh:\n",
    "    st = fh.readlines()\n",
    "\n",
    "for item in st:\n",
    "    print('Name:', item.strip())"
   ]
  },
  {
   "cell_type": "code",
   "execution_count": null,
   "metadata": {},
   "outputs": [],
   "source": []
  }
 ],
 "metadata": {
  "colab": {
   "provenance": []
  },
  "kernelspec": {
   "display_name": "Python 3 (ipykernel)",
   "language": "python",
   "name": "python3"
  },
  "language_info": {
   "codemirror_mode": {
    "name": "ipython",
    "version": 3
   },
   "file_extension": ".py",
   "mimetype": "text/x-python",
   "name": "python",
   "nbconvert_exporter": "python",
   "pygments_lexer": "ipython3",
   "version": "3.10.9"
  }
 },
 "nbformat": 4,
 "nbformat_minor": 1
}
