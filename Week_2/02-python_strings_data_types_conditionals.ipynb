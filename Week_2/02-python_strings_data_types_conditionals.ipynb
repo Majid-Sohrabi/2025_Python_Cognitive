{
 "cells": [
  {
   "cell_type": "markdown",
   "metadata": {
    "id": "Dp-fwTIQ7_7d"
   },
   "source": [
    "# Week 2: Intro to Python Programming"
   ]
  },
  {
   "cell_type": "markdown",
   "metadata": {},
   "source": [
    "## 1. Strings and symbols\n",
    "\n",
    "Python can work with strings one symbol at a time.\n",
    "\n",
    "We can put square brackets after the string and put there an order number of a symbol that we want to work with. But we should keep in mind that Python counts from 0. So the first letter is stored under the index 0."
   ]
  },
  {
   "cell_type": "code",
   "execution_count": 1,
   "metadata": {},
   "outputs": [
    {
     "name": "stdout",
     "output_type": "stream",
     "text": [
      "H\n"
     ]
    }
   ],
   "source": [
    "print('Hello'[0]) # prints us the first letter"
   ]
  },
  {
   "cell_type": "code",
   "execution_count": 2,
   "metadata": {},
   "outputs": [
    {
     "name": "stdout",
     "output_type": "stream",
     "text": [
      "e\n"
     ]
    }
   ],
   "source": [
    "print('Hello'[1]) # and now the second"
   ]
  },
  {
   "cell_type": "code",
   "execution_count": 3,
   "metadata": {},
   "outputs": [
    {
     "name": "stdout",
     "output_type": "stream",
     "text": [
      "l\n"
     ]
    }
   ],
   "source": [
    "print('Hello'[2])"
   ]
  },
  {
   "cell_type": "code",
   "execution_count": 4,
   "metadata": {},
   "outputs": [
    {
     "name": "stdout",
     "output_type": "stream",
     "text": [
      "l\n",
      "o\n"
     ]
    }
   ],
   "source": [
    "print('Hello'[3])\n",
    "print('Hello'[4])"
   ]
  },
  {
   "cell_type": "markdown",
   "metadata": {},
   "source": [
    "We can also store a string inside the variable and still be able to access its symbols."
   ]
  },
  {
   "cell_type": "code",
   "execution_count": 5,
   "metadata": {},
   "outputs": [
    {
     "name": "stdout",
     "output_type": "stream",
     "text": [
      "H\n",
      "e\n",
      "l\n",
      "l\n",
      "o\n",
      "Hello\n"
     ]
    }
   ],
   "source": [
    "s = 'Hello'\n",
    "print(s[0]) # prints the first symbol of the string that is stored in 's' variable\n",
    "print(s[1])\n",
    "print(s[2])\n",
    "print(s[3])\n",
    "print(s[4])\n",
    "print(s) # prints the entire string"
   ]
  },
  {
   "cell_type": "markdown",
   "metadata": {},
   "source": [
    "You may notice, that all those commands did not affect the string 'Hello' itself. So basically when we call `print(s[2])`, computer does not delete other symbols, but simply shows the only one that corresponds to that **index**."
   ]
  },
  {
   "cell_type": "markdown",
   "metadata": {},
   "source": [
    "We can find out how many symbols there are in the string if we call function `len()`"
   ]
  },
  {
   "cell_type": "code",
   "execution_count": 6,
   "metadata": {},
   "outputs": [
    {
     "name": "stdout",
     "output_type": "stream",
     "text": [
      "5\n"
     ]
    }
   ],
   "source": [
    "print(len('Hello'))"
   ]
  },
  {
   "cell_type": "markdown",
   "metadata": {},
   "source": [
    "What will happen if we put into the brackets a very large index?"
   ]
  },
  {
   "cell_type": "code",
   "execution_count": 7,
   "metadata": {
    "scrolled": true
   },
   "outputs": [
    {
     "ename": "IndexError",
     "evalue": "string index out of range",
     "output_type": "error",
     "traceback": [
      "\u001b[0;31m---------------------------------------------------------------------------\u001b[0m",
      "\u001b[0;31mIndexError\u001b[0m                                Traceback (most recent call last)",
      "Cell \u001b[0;32mIn[7], line 2\u001b[0m\n\u001b[1;32m      1\u001b[0m s \u001b[38;5;241m=\u001b[39m \u001b[38;5;124m'\u001b[39m\u001b[38;5;124mHello\u001b[39m\u001b[38;5;124m'\u001b[39m\n\u001b[0;32m----> 2\u001b[0m \u001b[38;5;28mprint\u001b[39m(\u001b[43ms\u001b[49m\u001b[43m[\u001b[49m\u001b[38;5;241;43m10\u001b[39;49m\u001b[43m]\u001b[49m)\n",
      "\u001b[0;31mIndexError\u001b[0m: string index out of range"
     ]
    }
   ],
   "source": [
    "s = 'Hello'\n",
    "print(s[10])  # should print the 11-s symbol of the string 'Hello' but it simply does not exist"
   ]
  },
  {
   "cell_type": "markdown",
   "metadata": {},
   "source": [
    "Will get an error `IndexError: string index out of range`, which simply tells us that our index is out of range."
   ]
  },
  {
   "cell_type": "markdown",
   "metadata": {},
   "source": [
    "Can we use a negative index?"
   ]
  },
  {
   "cell_type": "code",
   "execution_count": 8,
   "metadata": {},
   "outputs": [
    {
     "name": "stdout",
     "output_type": "stream",
     "text": [
      "o\n"
     ]
    }
   ],
   "source": [
    "s = 'Hello'\n",
    "print(s[-1])"
   ]
  },
  {
   "cell_type": "code",
   "execution_count": null,
   "metadata": {},
   "outputs": [],
   "source": [
    "# Negative Indexing\n",
    "\n",
    "# S = 'Hello'\n",
    "\n",
    "# Positive Indexing:  0,  1,  2,  3,  4\n",
    "# Negetive Indexing: -5, -4, -3, -2, -1"
   ]
  },
  {
   "cell_type": "markdown",
   "metadata": {},
   "source": [
    "There will be no error, and we will get the last symbol of the string. So basically with negative indexing we can read our string right to left."
   ]
  },
  {
   "cell_type": "code",
   "execution_count": 9,
   "metadata": {},
   "outputs": [
    {
     "name": "stdout",
     "output_type": "stream",
     "text": [
      "o\n",
      "l\n",
      "l\n",
      "e\n",
      "H\n"
     ]
    }
   ],
   "source": [
    "s = 'Hello'\n",
    "print(s[-1])  # The last symbol\n",
    "print(s[-2])  # Second from the end\n",
    "print(s[-3])\n",
    "print(s[-4])\n",
    "print(s[-5])"
   ]
  },
  {
   "cell_type": "markdown",
   "metadata": {},
   "source": [
    "If we ask for a too small index, we will also get an IndexError."
   ]
  },
  {
   "cell_type": "code",
   "execution_count": 10,
   "metadata": {},
   "outputs": [
    {
     "ename": "IndexError",
     "evalue": "string index out of range",
     "output_type": "error",
     "traceback": [
      "\u001b[0;31m---------------------------------------------------------------------------\u001b[0m",
      "\u001b[0;31mIndexError\u001b[0m                                Traceback (most recent call last)",
      "Cell \u001b[0;32mIn[10], line 2\u001b[0m\n\u001b[1;32m      1\u001b[0m s \u001b[38;5;241m=\u001b[39m \u001b[38;5;124m'\u001b[39m\u001b[38;5;124mHello\u001b[39m\u001b[38;5;124m'\u001b[39m\n\u001b[0;32m----> 2\u001b[0m \u001b[38;5;28mprint\u001b[39m(\u001b[43ms\u001b[49m\u001b[43m[\u001b[49m\u001b[38;5;241;43m-\u001b[39;49m\u001b[38;5;241;43m8\u001b[39;49m\u001b[43m]\u001b[49m)\n",
      "\u001b[0;31mIndexError\u001b[0m: string index out of range"
     ]
    }
   ],
   "source": [
    "s = 'Hello'\n",
    "print(s[-8]) # there is no -8 index, since there are only 5 symbols in our string"
   ]
  },
  {
   "cell_type": "markdown",
   "metadata": {},
   "source": [
    "## Task 1.1\n",
    "Let's find out some information about Russian passport holder.\n",
    "\n",
    "The ID of Russian passports looks like this: 4612 796901, where the first two digits — an ID of the region, where it was issued. And the second pair of digits is the year, when it was issued."
   ]
  },
  {
   "cell_type": "code",
   "execution_count": 114,
   "metadata": {},
   "outputs": [
    {
     "name": "stdout",
     "output_type": "stream",
     "text": [
      "Enter the Passport ID: 4422 999999\n",
      "4422 999999\n",
      "This passport was issued in 22  year\n",
      "This passport was issued in 44 region\n"
     ]
    }
   ],
   "source": [
    "# input a passport ID number in a following format: four digits - space - six digits\n",
    "# store it into the `ID` variable\n",
    "ID = input('Enter the Passport ID: ')\n",
    "\n",
    "# store the first two digits into the variable `region`\n",
    "region = ID[0:2]\n",
    "\n",
    "# store the third and the forth digit into the variable `year`\n",
    "year = ID[2:5]\n",
    "\n",
    "# print full passport ID number\n",
    "print(ID)\n",
    "\n",
    "# print the string 'This passport was issued in', year variable, ' year.'\n",
    "print(\"This passport was issued in\", year, 'year')\n",
    "\n",
    "# print the string 'This passport was issued in', `region` variable, ' region.'\n",
    "print(\"This passport was issued in\", region, 'region')"
   ]
  },
  {
   "cell_type": "markdown",
   "metadata": {},
   "source": [
    "## How to print a pretty output"
   ]
  },
  {
   "cell_type": "code",
   "execution_count": 11,
   "metadata": {},
   "outputs": [
    {
     "name": "stdout",
     "output_type": "stream",
     "text": [
      "Majid\n",
      "Sohrabi\n"
     ]
    }
   ],
   "source": [
    "print('Majid')\n",
    "print('Sohrabi')"
   ]
  },
  {
   "cell_type": "code",
   "execution_count": 12,
   "metadata": {},
   "outputs": [
    {
     "name": "stdout",
     "output_type": "stream",
     "text": [
      "MA BB CC\n"
     ]
    }
   ],
   "source": [
    "print('MA', 'BB', 'CC')"
   ]
  },
  {
   "cell_type": "code",
   "execution_count": 122,
   "metadata": {},
   "outputs": [
    {
     "name": "stdout",
     "output_type": "stream",
     "text": [
      "What would you bring to a deserted island? I1\n",
      "And? I2\n",
      "Something else? I3\n",
      "To a deserted island you would bring: I1, I2, I3\n"
     ]
    }
   ],
   "source": [
    "first = input('What would you bring to a deserted island? ')\n",
    "second = input('And? ')\n",
    "third = input('Something else? ')\n",
    "\n",
    "print('To a deserted island you would bring' , end=\": \") # end=\": \" — This way we ask Python not to \n",
    "                                                         #            finish printed line with a \\n\n",
    "                                                         # but rather put ': ' in the end and start \n",
    "                                                         # next printed line right after colon\n",
    "    \n",
    "print(first, second, third, sep=\", \") # sep=\", \" — this way we ask Python to not \n",
    "                                      # simply print strings with space between them,\n",
    "                                      # but put there a comma with a space after"
   ]
  },
  {
   "cell_type": "markdown",
   "metadata": {},
   "source": [
    "With a little help of words `sep` and `end` we are tuning `print()` function. We tell computer what do we want exactly. We do not know, how `print()` works, as we know nothing about the internal mechanism of the vending coffee machine. But with a help of `sep` and `end` we can specify how our text should be printed.\n",
    "\n",
    "Words `sep` and `end` are like `More sugar` and `Less sugar` buttons at the face of the coffee automat — they help us to tune what we will get as a result. Such words we would call **keyword arguments** or **function parameters**."
   ]
  },
  {
   "cell_type": "markdown",
   "metadata": {},
   "source": [
    "## Task 1.2\n",
    "\n",
    "#### How to write all letters of a word seperately in one line???"
   ]
  },
  {
   "cell_type": "code",
   "execution_count": 129,
   "metadata": {},
   "outputs": [
    {
     "name": "stdout",
     "output_type": "stream",
     "text": [
      "H\n",
      "e\n",
      "l\n",
      "l\n",
      "o\n"
     ]
    }
   ],
   "source": [
    "text = \"Hello\"\n",
    "for i in text:\n",
    "    print(i)"
   ]
  },
  {
   "cell_type": "code",
   "execution_count": 132,
   "metadata": {},
   "outputs": [
    {
     "name": "stdout",
     "output_type": "stream",
     "text": [
      "H e l l o "
     ]
    }
   ],
   "source": [
    "text = \"Hello\"\n",
    "for i in text:\n",
    "    print(i, end=' ')"
   ]
  },
  {
   "cell_type": "code",
   "execution_count": 133,
   "metadata": {
    "scrolled": true
   },
   "outputs": [
    {
     "name": "stdout",
     "output_type": "stream",
     "text": [
      "String here is also called an argument, but not a keyword argument\n"
     ]
    }
   ],
   "source": [
    "print('String here is also called an argument, but not a keyword argument')"
   ]
  },
  {
   "cell_type": "markdown",
   "metadata": {},
   "source": [
    "We already know that if we want to put a variable value into a string, we may use `+` operator to 'glue' strings together."
   ]
  },
  {
   "cell_type": "code",
   "execution_count": 134,
   "metadata": {},
   "outputs": [
    {
     "name": "stdout",
     "output_type": "stream",
     "text": [
      "What is student's name? Oleg\n",
      "Hi, Oleg\n"
     ]
    }
   ],
   "source": [
    "# Pay attention to the symbol --> \\ <--\n",
    "# It allows to use single quote inide a string defined by single quote\n",
    "\n",
    "name = input('What is the student\\'s name? ')\n",
    "print('Hi, ' + name)"
   ]
  },
  {
   "cell_type": "markdown",
   "metadata": {},
   "source": [
    "However, it is not always convenient. Sometimes we need to put that variable into many places. Or to put something after it. Here we can use so called `f-strings`.\n",
    "\n",
    "* We put f symbol before the quotation mark of our string.\n",
    "* Inside the string we put curly brackets and inside them the variable name that should be printed in that place.\n",
    "* Those curly brackets and f-symbol are technical symbols, they will not be printed but they will signal Python that we want put variable's contents inside the string."
   ]
  },
  {
   "cell_type": "code",
   "execution_count": 135,
   "metadata": {},
   "outputs": [
    {
     "name": "stdout",
     "output_type": "stream",
     "text": [
      "What is student's name? Oleg\n",
      "Привет, Oleg\n",
      "Hello, Oleg!\n",
      "おはようございます, Oleg!\n"
     ]
    }
   ],
   "source": [
    "name = input('What is student\\'s name? ')\n",
    "print(f'Привет, {name}')\n",
    "print(f'Hello, {name}!')\n",
    "print(f'おはようございます, {name}!')"
   ]
  },
  {
   "cell_type": "code",
   "execution_count": 136,
   "metadata": {},
   "outputs": [
    {
     "name": "stdout",
     "output_type": "stream",
     "text": [
      "What is student's name? Oleg\n",
      "Where will be the party? Moscow\n",
      "Day? 27\n",
      "Time? 12.00\n",
      "Hi, Oleg! We want to invite you to a party. It will happen here: Moscow, on 27 at 12.00 pm. Looking forward!\n"
     ]
    }
   ],
   "source": [
    "name = input('What is student\\'s name? ')\n",
    "addr = input('Where will be the party? ')\n",
    "date = input('Day? ')\n",
    "time = input('Time? ')\n",
    "print(f'Hi, {name}! We want to invite you to a party. It will happen here: {addr}, on {date} at {time} pm. Looking forward!')"
   ]
  },
  {
   "cell_type": "markdown",
   "metadata": {},
   "source": [
    "If we want to print it on several lines, we can add `\\n` symbols inside the text. It will break the text to the next line."
   ]
  },
  {
   "cell_type": "code",
   "execution_count": 137,
   "metadata": {},
   "outputs": [
    {
     "name": "stdout",
     "output_type": "stream",
     "text": [
      "Hi, Oleg! We want to invite you to party.\n",
      "It will happen here: Moscow, on 27 at 12.00 pm.\n",
      "Looking forward!\n"
     ]
    }
   ],
   "source": [
    "print(f'Hi, {name}! We want to invite you to party.\\nIt will happen here: {addr}, on {date} at {time} pm.\\nLooking forward!')"
   ]
  },
  {
   "cell_type": "code",
   "execution_count": null,
   "metadata": {},
   "outputs": [],
   "source": []
  },
  {
   "cell_type": "code",
   "execution_count": null,
   "metadata": {},
   "outputs": [],
   "source": []
  },
  {
   "cell_type": "markdown",
   "metadata": {},
   "source": [
    "## 2. Data Types\n",
    "\n",
    "We, as people, constantly classify things. We can easily tell a bicycle from a car, and we know instantly how we should use them. All cars are different, but when you hear the word 'car' you have some basic understanding of what it is. This skill of typing of the word helps us to make sense of it.\n",
    "\n",
    "Python also can work with different kinds of objects and also has an abitility of typing them. The most basic of Python data types are the following:\n",
    "* *Integers*. We use them if we want to count apples (2 apples or 10 apples).\n",
    "* *Floating point numbers*. We use them when we want to buy a 1.5 liter of Coca-Cola\n",
    "* *Strings*. We use them when we want to type something or to print something."
   ]
  },
  {
   "cell_type": "markdown",
   "metadata": {},
   "source": [
    "What can computer do with integers?"
   ]
  },
  {
   "cell_type": "code",
   "execution_count": 138,
   "metadata": {},
   "outputs": [
    {
     "name": "stdout",
     "output_type": "stream",
     "text": [
      "13\n",
      "9\n",
      "22\n",
      "5.5\n"
     ]
    }
   ],
   "source": [
    "print(11 + 2)  # addition\n",
    "print(11 - 2)  # subtraction\n",
    "print(11 * 2)  # multiplication\n",
    "print(11 / 2)  # division"
   ]
  },
  {
   "cell_type": "markdown",
   "metadata": {},
   "source": [
    "Also Python can perform an integer division. We use that if we want to find out how many apples can two friends get if they divide them equally. Also we can find a reminder of such division. E.g. how many apples will be left if there were two friends and an odd number of apples."
   ]
  },
  {
   "cell_type": "code",
   "execution_count": 139,
   "metadata": {},
   "outputs": [
    {
     "name": "stdout",
     "output_type": "stream",
     "text": [
      "5\n",
      "1\n"
     ]
    }
   ],
   "source": [
    "print(11 // 2)  # Integer division — each friend will get five apples\n",
    "print(11 % 2)   # Modulo — reminder of division — one apples is left undistributed"
   ]
  },
  {
   "cell_type": "markdown",
   "metadata": {},
   "source": [
    "We can perform all the same operations to the floating point numbers as well."
   ]
  },
  {
   "cell_type": "code",
   "execution_count": 140,
   "metadata": {},
   "outputs": [
    {
     "name": "stdout",
     "output_type": "stream",
     "text": [
      "13.5\n",
      "9.5\n",
      "23.0\n",
      "5.75\n",
      "5.0\n",
      "1.5\n"
     ]
    }
   ],
   "source": [
    "print(11.5 + 2)  # addition\n",
    "print(11.5 - 2)  # subtraction\n",
    "print(11.5 * 2)  # multiplication\n",
    "print(11.5 / 2)  # division\n",
    "\n",
    "print(11.5 // 2)    # integer division\n",
    "print(11.5 % 2)     # modulo"
   ]
  },
  {
   "cell_type": "markdown",
   "metadata": {},
   "source": [
    "Of course, Python can raise numbers to a power."
   ]
  },
  {
   "cell_type": "code",
   "execution_count": 141,
   "metadata": {},
   "outputs": [
    {
     "name": "stdout",
     "output_type": "stream",
     "text": [
      "9\n",
      "27\n",
      "12.25\n"
     ]
    }
   ],
   "source": [
    "print(3 ** 2)  # 3 to 2nd power\n",
    "print(3 ** 3)  # 3 to 3rd power\n",
    "\n",
    "print(3.5 ** 2) # 3.4 to 2nd power"
   ]
  },
  {
   "cell_type": "markdown",
   "metadata": {},
   "source": [
    "Ok, we get it. But what can we do with strings?"
   ]
  },
  {
   "cell_type": "code",
   "execution_count": 142,
   "metadata": {},
   "outputs": [
    {
     "name": "stdout",
     "output_type": "stream",
     "text": [
      "Helloworld\n",
      "Hello world\n",
      "Hello world\n",
      "OneMoreTime!OneMoreTime!OneMoreTime!OneMoreTime!\n"
     ]
    }
   ],
   "source": [
    "print('Hello' + 'world')  # we can 'glue' them together\n",
    "print('Hello' + ' ' + 'world')  # if we need a space, we'll need to glue it as well\n",
    "print('Hello ' + 'world') # or put a space inside one of the strings\n",
    "\n",
    "print('OneMoreTime!' * 4)  # or we can repeat a string for N number of times"
   ]
  },
  {
   "cell_type": "markdown",
   "metadata": {},
   "source": [
    "How much is 19920630 + 1?"
   ]
  },
  {
   "cell_type": "code",
   "execution_count": 143,
   "metadata": {},
   "outputs": [
    {
     "name": "stdout",
     "output_type": "stream",
     "text": [
      "199206301\n",
      "19920631\n",
      "19920631.0\n"
     ]
    }
   ],
   "source": [
    "print('19920630' + '1')   # if they are strings, result would be somewhat surprising\n",
    "print(19920630 + 1)       # if they integers, we will get an integer\n",
    "print(19920630 + 1.0)     # if at least one of them is a float, we will get a float"
   ]
  },
  {
   "cell_type": "markdown",
   "metadata": {},
   "source": [
    "What will happen if we add an integer to a string?"
   ]
  },
  {
   "cell_type": "code",
   "execution_count": 144,
   "metadata": {},
   "outputs": [
    {
     "ename": "TypeError",
     "evalue": "can only concatenate str (not \"int\") to str",
     "output_type": "error",
     "traceback": [
      "\u001b[0;31m---------------------------------------------------------------------------\u001b[0m",
      "\u001b[0;31mTypeError\u001b[0m                                 Traceback (most recent call last)",
      "Cell \u001b[0;32mIn[144], line 1\u001b[0m\n\u001b[0;32m----> 1\u001b[0m \u001b[38;5;28mprint\u001b[39m(\u001b[38;5;124;43m'\u001b[39;49m\u001b[38;5;124;43m19920630\u001b[39;49m\u001b[38;5;124;43m'\u001b[39;49m\u001b[43m \u001b[49m\u001b[38;5;241;43m+\u001b[39;49m\u001b[43m \u001b[49m\u001b[38;5;241;43m1\u001b[39;49m)\n",
      "\u001b[0;31mTypeError\u001b[0m: can only concatenate str (not \"int\") to str"
     ]
    }
   ],
   "source": [
    "print('19920630' + 1)"
   ]
  },
  {
   "cell_type": "markdown",
   "metadata": {},
   "source": [
    "`TypeError: must be str`: we will get an error. Python cannot add those two different types, it can either glue two strings together, or sum up two integers."
   ]
  },
  {
   "cell_type": "markdown",
   "metadata": {},
   "source": [
    "Let's find out how to tell Python to convert one data type to another. (Casting)"
   ]
  },
  {
   "cell_type": "code",
   "execution_count": 145,
   "metadata": {},
   "outputs": [
    {
     "name": "stdout",
     "output_type": "stream",
     "text": [
      "Type in a number: 1\n",
      "And another one: 2\n",
      "12\n"
     ]
    }
   ],
   "source": [
    "a = input('Type in a number: ')\n",
    "b = input('And another one: ')\n",
    "print(a + b)"
   ]
  },
  {
   "cell_type": "markdown",
   "metadata": {},
   "source": [
    "We definitely did not get a sum of two integers. Let's use a function `type() ` to find out what are the types of the values stored in the variables `a` and `b` :"
   ]
  },
  {
   "cell_type": "code",
   "execution_count": 146,
   "metadata": {},
   "outputs": [
    {
     "name": "stdout",
     "output_type": "stream",
     "text": [
      "Type in a number: 1\n",
      "And another one: 2\n",
      "<class 'str'> <class 'str'>\n",
      "12\n"
     ]
    }
   ],
   "source": [
    "a = input('Type in a number: ')\n",
    "b = input('And another one: ')\n",
    "print(type(a), type(b))\n",
    "print(a + b)"
   ]
  },
  {
   "cell_type": "markdown",
   "metadata": {},
   "source": [
    "`str` stays for string type. Let's see how Python sees numbers."
   ]
  },
  {
   "cell_type": "code",
   "execution_count": 147,
   "metadata": {},
   "outputs": [
    {
     "name": "stdout",
     "output_type": "stream",
     "text": [
      "<class 'int'> <class 'float'>\n"
     ]
    }
   ],
   "source": [
    "print(type(4), type(3.5))"
   ]
  },
  {
   "cell_type": "markdown",
   "metadata": {},
   "source": [
    "* Integers in Python are called **int**.\n",
    "* Floating point numbers in Python are called **float**.\n",
    "* Strings are called **str**."
   ]
  },
  {
   "cell_type": "markdown",
   "metadata": {},
   "source": [
    "When we give Python some data via `input()` it reads everything as strings. If we need to convert it to another data type, we should use `int()` for integers, and `float()` for floating point numbers.\n",
    "\n",
    "Let's add those numbers from the problem above.\n",
    "\n",
    "1. Type in the first number and store it into the variable. It will be read as a string.\n",
    "2. Convert the string to integer and re-write the variable.\n",
    "3. Read the second number, convert it to an integer and store it into the variable.\n",
    "4. Add two numbers together and print the result."
   ]
  },
  {
   "cell_type": "code",
   "execution_count": 149,
   "metadata": {},
   "outputs": [
    {
     "name": "stdout",
     "output_type": "stream",
     "text": [
      "Type in a number: 1\n",
      "And another: 2\n",
      "3\n"
     ]
    }
   ],
   "source": [
    "a = input('Type in a number: ')\n",
    "a = int(a)  # re-writing variable a with an int()\n",
    "b = int(input('And another: ')) # second number we will convert to int in one line\n",
    "print(a + b)"
   ]
  },
  {
   "cell_type": "markdown",
   "metadata": {},
   "source": [
    "## Task 2.1\n",
    "Let's find how much do the cake pieces weigh."
   ]
  },
  {
   "cell_type": "code",
   "execution_count": 153,
   "metadata": {},
   "outputs": [
    {
     "name": "stdout",
     "output_type": "stream",
     "text": [
      "How many pieces?7\n",
      "How much kilos?100\n",
      "One piece is 14.285714285714286 kilos\n"
     ]
    }
   ],
   "source": [
    "# input the number of pieces we need to divide the cake into and store it into the variable named `a`\n",
    "a = input('How many pieces?')\n",
    "\n",
    "# convert contents of the variable `a` into an integer and re-write the variable `a` with an integer\n",
    "a = int(a)\n",
    "\n",
    "# input how much kilos does the entire cake weigh (floating point number),\n",
    "# convert it to float and store into the `b` variable\n",
    "b = float(input('How much kilos?'))\n",
    "\n",
    "# find out how much will the each piece weigh and store it into the `c` varaible\n",
    "c = b/a\n",
    "\n",
    "# glue three strins together: \"One piece is \", contents of `c` variable, and ' kilos'\n",
    "# and store the result into the variable `answer`\n",
    "answer = 'One piece is ' + str(c) +  ' kilos'\n",
    "\n",
    "# print the variable `answer`\n",
    "print(answer)"
   ]
  },
  {
   "cell_type": "markdown",
   "metadata": {},
   "source": [
    "Let's revise what we've learned."
   ]
  },
  {
   "cell_type": "code",
   "execution_count": 157,
   "metadata": {},
   "outputs": [
    {
     "name": "stdout",
     "output_type": "stream",
     "text": [
      "We perform the following to the integers and floats\n",
      "We can add them:\n",
      "12\n",
      "12.0\n",
      "\n",
      "************\n",
      "Subtract:\n",
      "-2\n",
      "-2.0\n",
      "\n",
      "************\n",
      "Multiply:\n",
      "35\n",
      "38.5\n",
      "\n",
      "************\n",
      "Divide:\n",
      "0.5\n",
      "2.1\n",
      "\n",
      "************\n",
      "Perform integer division:\n",
      "2\n",
      "2.0\n",
      "\n",
      "************\n",
      "Perform modulo operation:\n",
      "1\n",
      "1.5\n"
     ]
    }
   ],
   "source": [
    "print('We perform the following to the integers and floats')\n",
    "print('We can add them:')\n",
    "print(5 + 7)\n",
    "print(5.5 + 6.5)\n",
    "\n",
    "print('\\n************')\n",
    "print('Subtract:')\n",
    "print(5 - 7)\n",
    "print(5.5 - 7.5)\n",
    "\n",
    "print('\\n************')\n",
    "print('Multiply:')\n",
    "print(5 * 7)\n",
    "print(5.5 * 7)\n",
    "\n",
    "print('\\n************')\n",
    "print('Divide:')\n",
    "print(8 / 16)\n",
    "print(4.2 / 2)\n",
    "\n",
    "print('\\n************')\n",
    "print('Perform integer division:')\n",
    "print(5 // 2)\n",
    "print(5.5 // 2)\n",
    "\n",
    "print('\\n************')\n",
    "print('Perform modulo operation:')\n",
    "print(5 % 2)\n",
    "print(5.5 % 2)"
   ]
  },
  {
   "cell_type": "code",
   "execution_count": 158,
   "metadata": {},
   "outputs": [
    {
     "name": "stdout",
     "output_type": "stream",
     "text": [
      "To strings we can do the following\n",
      "We can glue them together:\n",
      "Hello World!\n",
      "\n",
      "We can multiply them by an integer:\n",
      "Hello Hello Hello Hello \n"
     ]
    }
   ],
   "source": [
    "print('To strings we can do the following')\n",
    "print('We can glue them together:')\n",
    "first = 'Hello '\n",
    "second = 'World!'\n",
    "text = first + second\n",
    "print(text)\n",
    "\n",
    "print('\\nWe can multiply them by an integer:')\n",
    "text = first * 4\n",
    "print(text)"
   ]
  },
  {
   "cell_type": "code",
   "execution_count": null,
   "metadata": {},
   "outputs": [],
   "source": []
  },
  {
   "cell_type": "code",
   "execution_count": null,
   "metadata": {},
   "outputs": [],
   "source": []
  },
  {
   "cell_type": "markdown",
   "metadata": {},
   "source": [
    "## 3. Conditional statements in Python. If-else operators"
   ]
  },
  {
   "cell_type": "markdown",
   "metadata": {},
   "source": [
    "Let's take a look how to write a conditional statement in Python."
   ]
  },
  {
   "cell_type": "markdown",
   "metadata": {},
   "source": [
    "### Logical variables\n",
    "\n",
    "Let's talk about the logic of our actions if we were to cook eggs for breakfast.\n",
    "\n",
    "*If there are no eggs in the refrigerator -- we go to the grocery store*\n",
    "\n",
    "Block diagram for this scenario would be something like this.\n",
    "\n",
    "<img src=\"https://github.com/rogovich/Data/blob/master/img/Coursera_English/1_eng.png?raw=true\" width=\"300\">\n",
    "\n",
    "Here we use a condititon <*If there are no eggs in the refrigerator*>.\n",
    "\n",
    "Then there are two courses of action:\n",
    "* There are really no eggs and then our *condition is True*\n",
    "* There are some eggs and then our *condition is False*.\n",
    "\n",
    "So bacically our condition can be only in one of two states. Either True or False.\n",
    "\n",
    "Such data type which can be only True or False are called **boolean data type** or **booleans**."
   ]
  },
  {
   "cell_type": "code",
   "execution_count": 159,
   "metadata": {},
   "outputs": [
    {
     "name": "stdout",
     "output_type": "stream",
     "text": [
      "<class 'bool'>\n",
      "<class 'bool'>\n"
     ]
    }
   ],
   "source": [
    "print(type(True))\n",
    "x = False\n",
    "print(type(x))"
   ]
  },
  {
   "cell_type": "markdown",
   "metadata": {},
   "source": [
    "### Comparison operators in Python\n",
    "How do we check whether the condition <*There are no eggs in the refrigerator*> is True of False? How can we write such a condition in Python?\n",
    "\n",
    "We can express this statement numerically. *No eggs* basically means that eggs quantity is zero.\n",
    "\n",
    "```\n",
    "If <eggs quantity = 0>, then <we go to the grocery store>\n",
    "```\n",
    "\n",
    "But this statement is not entirely correct. Instead of `=` operator, which in Python is used for a variable assignment, we should use `==`. `eggs quantity = 0` whould mean `put the label to an integer 0`. If we want to compare variable contents to 0 we should write it diffirently.\n",
    "\n",
    "```\n",
    "If <eggs quantity == 0>, then <we go to the grocery store>\n",
    "```\n",
    "\n",
    "Are there other comparison operators? Yes!\n",
    "\n",
    "- **>** – greater than;\n",
    "- **<** – less than;\n",
    "- **==** – equal to;\n",
    "- **>=** – greater than or equal to;\n",
    "- **<=** – less than or equal to;\n",
    "- **!=** – not equal to.\n",
    "\n",
    "If we are using any of those operators, the result always will be a boolean value (True of False).\n",
    "\n",
    "Let's check!"
   ]
  },
  {
   "cell_type": "code",
   "execution_count": 160,
   "metadata": {},
   "outputs": [
    {
     "name": "stdout",
     "output_type": "stream",
     "text": [
      "True\n"
     ]
    }
   ],
   "source": [
    "print(10 == 10) # ten is equal to ten. It is true!"
   ]
  },
  {
   "cell_type": "markdown",
   "metadata": {},
   "source": [
    "We can also compare results of calculations."
   ]
  },
  {
   "cell_type": "code",
   "execution_count": 161,
   "metadata": {},
   "outputs": [
    {
     "name": "stdout",
     "output_type": "stream",
     "text": [
      "True\n"
     ]
    }
   ],
   "source": [
    "print(9 + 1 == 10)"
   ]
  },
  {
   "cell_type": "markdown",
   "metadata": {},
   "source": [
    "Let's try something that would give us False"
   ]
  },
  {
   "cell_type": "code",
   "execution_count": 162,
   "metadata": {},
   "outputs": [
    {
     "name": "stdout",
     "output_type": "stream",
     "text": [
      "False\n"
     ]
    }
   ],
   "source": [
    "print(10 > 10) # ten is not greater than ten"
   ]
  },
  {
   "cell_type": "markdown",
   "metadata": {},
   "source": [
    "Boolean variables in Python will be defined as **bool**"
   ]
  },
  {
   "cell_type": "code",
   "execution_count": 163,
   "metadata": {},
   "outputs": [
    {
     "name": "stdout",
     "output_type": "stream",
     "text": [
      "<class 'bool'>\n"
     ]
    }
   ],
   "source": [
    "print(type(10 > 10))"
   ]
  },
  {
   "cell_type": "code",
   "execution_count": 164,
   "metadata": {},
   "outputs": [
    {
     "name": "stdout",
     "output_type": "stream",
     "text": [
      "<class 'bool'>\n"
     ]
    }
   ],
   "source": [
    "print(type(True))"
   ]
  },
  {
   "cell_type": "markdown",
   "metadata": {},
   "source": [
    "### Operator If"
   ]
  },
  {
   "cell_type": "markdown",
   "metadata": {},
   "source": [
    "Now let's try to realise conditional statement in Python.\n",
    "\n",
    "Statement *If \\<condition is True\\>, then \\<some instructions\\>* can be written like this:\n",
    "\n",
    "```\n",
    "if <condition>:\n",
    "    <instructions when the condition is True>\n",
    "```\n",
    "Here a *condition* always would be some logical value or expression that can result in one.\n",
    "\n",
    "Now we know how to write up our breakfast example in Python.\n",
    "\n",
    "<img src=\"https://github.com/rogovich/Data/blob/master/img/Coursera_English/if_eng.png?raw=true\" width=\"200\">"
   ]
  },
  {
   "cell_type": "code",
   "execution_count": 168,
   "metadata": {},
   "outputs": [
    {
     "name": "stdout",
     "output_type": "stream",
     "text": [
      "How many eggs are in the refrigerator? 0\n",
      "Going to the store!\n",
      "Cooking eggs sunny-side-up!\n"
     ]
    }
   ],
   "source": [
    "eggs = int(input('How many eggs are in the refrigerator? '))   # stroring eggs quantity into the variable `eggs`\n",
    "if eggs == 0:       # checking if we have any eggs\n",
    "    print('Going to the store!')  # printing something if our condition is True\n",
    "\n",
    "print('Cooking eggs sunny-side-up!')"
   ]
  },
  {
   "cell_type": "markdown",
   "metadata": {},
   "source": [
    "So, instructions will be executed then and only then if our condition after the *if* operator is True.\n",
    "\n",
    "Please note, that instructions that are executed only when condition is True are written with an indent. This way Python knows that these instructions are relevant only to the present conditional statement.\n",
    "\n",
    "Now let's change our example a bit. Let's assume that we need no less than tree eggs to cook the breakfast.\n",
    "\n",
    "<img src=\"https://github.com/rogovich/Data/blob/master/img/Coursera_English/if-2_eng.png?raw=true\" width=\"200\">"
   ]
  },
  {
   "cell_type": "code",
   "execution_count": 170,
   "metadata": {},
   "outputs": [
    {
     "name": "stdout",
     "output_type": "stream",
     "text": [
      "How many eggs are there in the refrigerator? 4\n",
      "Cooking eggs sunny-side-up!\n"
     ]
    }
   ],
   "source": [
    "eggs = int(input('How many eggs are there in the refrigerator? '))\n",
    "if eggs < 3:       # checking that we have enough eggs\n",
    "    print('Going to the store!')\n",
    "\n",
    "print('Cooking eggs sunny-side-up!')"
   ]
  },
  {
   "cell_type": "markdown",
   "metadata": {},
   "source": [
    "### Operator Else"
   ]
  },
  {
   "cell_type": "markdown",
   "metadata": {},
   "source": [
    "But what if we do not want to go shopping but rather want to have breakfast in the cafe nearby?\n",
    "\n",
    "Now, let's write a statement that tells us whether we can prepare breakfast at home or should we go out.\n",
    "\n",
    "Now we have two different actions and cooking does not depend anymore on shopping.\n",
    "\n",
    "Let's try to implement this with the second `if` statement."
   ]
  },
  {
   "cell_type": "code",
   "execution_count": 172,
   "metadata": {},
   "outputs": [
    {
     "name": "stdout",
     "output_type": "stream",
     "text": [
      "How many eggs are there in the refrigerator? 4\n",
      "Cooking eggs sunny-side-up!\n"
     ]
    }
   ],
   "source": [
    "eggs = int(input('How many eggs are there in the refrigerator? '))\n",
    "\n",
    "# first conditional statement\n",
    "if eggs >= 3:\n",
    "    print('Cooking eggs sunny-side-up!')\n",
    "\n",
    "    # second conditional statement\n",
    "if eggs < 3:\n",
    "    print('Going to the cafe!')"
   ]
  },
  {
   "cell_type": "markdown",
   "metadata": {},
   "source": [
    "However in this case those two statements are **mutually exclusive**. Either we have 3 or more eggs, or we have less than 3 eggs.\n",
    "\n",
    "In such situtations it is easier to use the operator `else`.\n",
    "```\n",
    "if <condition>:\n",
    "    <instructions when condition is True>\n",
    "else:\n",
    "    <instructions when condition is False>\n",
    "```  \n",
    "Instructions written after `else` would be executed then and only then if condition after `if` is False.\n",
    "\n",
    "Look at the updated diagram for our problem.\n",
    "\n",
    "<img src=\"https://github.com/rogovich/Data/blob/master/img/Coursera_English/else_eng.png?raw=true\" width=\"300\">\n"
   ]
  },
  {
   "cell_type": "code",
   "execution_count": 174,
   "metadata": {},
   "outputs": [
    {
     "name": "stdout",
     "output_type": "stream",
     "text": [
      "How many eggs are there in the refrigerator? 4\n",
      "Cooking eggs sunny-side-up!\n"
     ]
    }
   ],
   "source": [
    "eggs = int(input('How many eggs are there in the refrigerator? '))\n",
    "\n",
    "if eggs >= 3:\n",
    "    print('Cooking eggs sunny-side-up!')\n",
    "\n",
    "    # replacing second conditional statement via else\n",
    "else:\n",
    "    print('Going to the cafe!')"
   ]
  },
  {
   "cell_type": "markdown",
   "metadata": {},
   "source": [
    "Now one conditional statement can handle two conditions."
   ]
  },
  {
   "cell_type": "markdown",
   "metadata": {},
   "source": [
    "### Nested If statements\n",
    "\n",
    "Sometimes we need to check more than one statement. We actually can put one `if` statement within the other. This would be called *nested if statements*.\n",
    "\n",
    "Please pay attention to the indents within such structures.\n",
    "\n",
    "Let's check for milk if we have eggs. If there is some milk let's cook an omelet.\n",
    "\n",
    "<img src=\"https://github.com/rogovich/Data/blob/master/img/Coursera_English/nested-if_eng.png?raw=true\" width=\"350\">"
   ]
  },
  {
   "cell_type": "code",
   "execution_count": 176,
   "metadata": {},
   "outputs": [
    {
     "name": "stdout",
     "output_type": "stream",
     "text": [
      "How many eggs are there in the refrigerator? 4\n",
      "Cooking at home!\n",
      "Is there any milk? Yes or No. No\n"
     ]
    }
   ],
   "source": [
    "eggs = int(input('How many eggs are there in the refrigerator? '))\n",
    "\n",
    "# if...else statement\n",
    "if eggs >= 3:\n",
    "    \n",
    "    print('Cooking at home!')\n",
    "    milk = input('Is there any milk? Yes or No. ')\n",
    "    \n",
    "    # nested if statement\n",
    "    if milk == 'Yes':\n",
    "        print('Cooking an omelet!') # this is an instruction within nested if statement\n",
    "                                    # so we use a double indent\n",
    "else:\n",
    "    print('Going to the cafe!') # insturctions if we have less than 3 eggs"
   ]
  },
  {
   "cell_type": "markdown",
   "metadata": {},
   "source": [
    "`If...else` statement also can be nested. Let's cook either eggs sunny side up or an omelet.\n",
    "\n",
    "<img src=\"https://github.com/rogovich/Data/blob/master/img/Coursera_English/nested-if-else_eng.png?raw=true\" width=\"400\">"
   ]
  },
  {
   "cell_type": "code",
   "execution_count": 177,
   "metadata": {},
   "outputs": [
    {
     "name": "stdout",
     "output_type": "stream",
     "text": [
      "How many eggs are there in the refrigerator? 4\n",
      "Cooking at home!\n",
      "Is there any milk? Yes or No. NO\n",
      "Cooking eggs sunny-side-up!\n"
     ]
    }
   ],
   "source": [
    "eggs = int(input('How many eggs are there in the refrigerator? '))\n",
    "\n",
    "# if...else statement\n",
    "if eggs >= 3:\n",
    "    \n",
    "    print('Cooking at home!')\n",
    "    milk = input('Is there any milk? Yes or No. ')\n",
    "    \n",
    "    # nested if...else statement\n",
    "    if milk == 'Yes':\n",
    "        print('Cooking an omelet!')\n",
    "    else:\n",
    "        print('Cooking eggs sunny-side-up!') # instructions if we do not have any milk\n",
    "\n",
    "else:\n",
    "    print('Going to the cafe!') # insturctions if we have less than 3 eggs"
   ]
  },
  {
   "cell_type": "code",
   "execution_count": null,
   "metadata": {},
   "outputs": [],
   "source": []
  }
 ],
 "metadata": {
  "colab": {
   "provenance": []
  },
  "kernelspec": {
   "display_name": "Python 3 (ipykernel)",
   "language": "python",
   "name": "python3"
  },
  "language_info": {
   "codemirror_mode": {
    "name": "ipython",
    "version": 3
   },
   "file_extension": ".py",
   "mimetype": "text/x-python",
   "name": "python",
   "nbconvert_exporter": "python",
   "pygments_lexer": "ipython3",
   "version": "3.10.9"
  }
 },
 "nbformat": 4,
 "nbformat_minor": 1
}
