{
 "cells": [
  {
   "cell_type": "markdown",
   "metadata": {
    "id": "Dp-fwTIQ7_7d"
   },
   "source": [
    "# Week 1: Intro to Python Programming\n",
    "\n",
    "<img src=\"https://media.tenor.com/y2JXkY1pXkwAAAAC/cat-computer.gif\"> \n",
    "\n",
    "\n",
    "## 1. How to use notebooks: text cells\n",
    "\n",
    "- Notebooks are set of **cells**\n",
    "\n",
    "- Each cell contains either text or code\n",
    "\n",
    "- To create new cell:\n",
    "\n",
    "  > Press `+ Code` / `+ Text` button (google colab)\n",
    "\n",
    "  > At the top of the page go to `Insert` - `Code cell` / `Text cell` (google colab)\n",
    "\n",
    "  > Hover over the middle of the page between the cells\n",
    "  \n",
    "  > Use shortcut `B` to create a cell bellow the current cell\n",
    "  \n",
    "  > Use shortcut `A` to create a cell on top of the current cell\n",
    "\n",
    "- Double click on the text cell to edit"
   ]
  },
  {
   "cell_type": "markdown",
   "metadata": {
    "id": "cR0t2wSd9BhN"
   },
   "source": [
    "## Task 1.1\n",
    "\n",
    "- Create a new text cell below this one\n",
    "\n",
    "- Add 3 bullet point describing youself\n",
    "\n",
    "- Add a picture of you favourite meme"
   ]
  },
  {
   "cell_type": "markdown",
   "metadata": {
    "id": "0Nm7jsof9d6I"
   },
   "source": [
    "# 2. How to use notebooks: code cells"
   ]
  },
  {
   "cell_type": "markdown",
   "metadata": {
    "id": "3kR6iRus42IY"
   },
   "source": [
    "\n",
    "\n",
    "\n",
    "- To run the cell\n",
    "\n",
    "> Press `Ctrl + Enter` / `cmd + Enter` / `shift + Enter`\n",
    "\n",
    "OR\n",
    "\n",
    "> Press `Run cell` sign at the left of the cell (google collab)\n",
    "\n",
    "\n",
    "- If your code was executed successfully:\n",
    "\n",
    "> `In []` to the left of the cell contains a number, not a `*` sign.\n",
    "\n",
    "> You do not see error messages below the code cell\n",
    "\n"
   ]
  },
  {
   "cell_type": "code",
   "execution_count": 4,
   "metadata": {
    "colab": {
     "base_uri": "https://localhost:8080/"
    },
    "id": "obq_Pkf442IZ",
    "outputId": "905a6be8-86ca-41fd-def5-cb342f6dd44b"
   },
   "outputs": [
    {
     "name": "stdout",
     "output_type": "stream",
     "text": [
      "4\n",
      "2 3 4\n"
     ]
    }
   ],
   "source": [
    "print(2 + 2)\n",
    "print(2, 3, 4)"
   ]
  },
  {
   "cell_type": "markdown",
   "metadata": {
    "id": "OZjvCaXw_bii"
   },
   "source": [
    "\n",
    "\n",
    "- What should I do if it all hung, nothing works, aaaaaaa\n",
    "\n",
    "<img src=\"https://img.freepik.com/premium-vector/cute-monkey-crying-with-tears_547439-613.jpg?w=1480\" width=\"300\" height=\"240\"> \n",
    "\n",
    "  > There is a special button `■` *interrupt execution* that will appear instead of `run the cell`\n",
    "\n",
    "OR\n",
    "\n",
    "  > Go to `Runtime` - `Interrupt execution`\n",
    "\n",
    "\n",
    "  > If that does not help, go to `Runtime` - `Resturt runtime...`. It will restart the whole notebook (but you will have to run all the cells from the very beggining)."
   ]
  },
  {
   "cell_type": "markdown",
   "metadata": {
    "id": "xc0ghJU1BGPd"
   },
   "source": [
    "## Task 2.1\n",
    "\n",
    "The cell below will run inifinitely long.\n",
    "* Run the cell\n",
    "* Panic a bit\n",
    "* Interrupt the execution"
   ]
  },
  {
   "cell_type": "code",
   "execution_count": 3,
   "metadata": {
    "id": "KeQUOV0P_eZV",
    "scrolled": true
   },
   "outputs": [],
   "source": [
    "# while True:\n",
    "#     print('stop me')"
   ]
  },
  {
   "cell_type": "code",
   "execution_count": null,
   "metadata": {},
   "outputs": [],
   "source": []
  },
  {
   "cell_type": "code",
   "execution_count": null,
   "metadata": {},
   "outputs": [],
   "source": []
  },
  {
   "cell_type": "markdown",
   "metadata": {
    "id": "eyheGN5q42Ib"
   },
   "source": [
    "# 3 Very basics\n",
    "\n",
    "## Caculator\n",
    "\n",
    "Python can do with numbers everything you favourite calculator can, e.g.\n",
    "  - `2*2` or `2/2`\n",
    "  - `2+2` or `2-2`\n",
    "  - `2**2` raise to the power\n",
    "  - `%` remainder of the division\n",
    "  - `//` the whole part of the division\n",
    "\n",
    "## Print function\n",
    "We will use a lot of python `functions` --- peice of code, that was already written for you and you can use it for your own purposes without knowing what happens inside.\n",
    "\n",
    "For example, function `print` helps you to display any infomation you need:\n",
    "> `print(<smth I want to print>, <something else I want to print>, ...)`\n",
    "\n",
    "\n",
    "Things in `< >` are called function `arguments` or `inputs`.\n",
    "\n",
    "## Comments\n",
    "If you want to comment your code (aka explain what is happenning for future generations) without adding a separate text cell. You can use `#`.\n",
    "\n",
    "> `# comment in the code`"
   ]
  },
  {
   "cell_type": "markdown",
   "metadata": {
    "id": "6e4Vt-E6EO08"
   },
   "source": [
    "## Tasks 3.1\n",
    "\n",
    "> Multiply 17 by 324 and print the result"
   ]
  },
  {
   "cell_type": "code",
   "execution_count": 5,
   "metadata": {
    "id": "hgvPSAvu42Ic"
   },
   "outputs": [
    {
     "name": "stdout",
     "output_type": "stream",
     "text": [
      "5508\n"
     ]
    }
   ],
   "source": [
    "print(17*324)"
   ]
  },
  {
   "cell_type": "code",
   "execution_count": 14,
   "metadata": {},
   "outputs": [
    {
     "data": {
      "text/plain": [
       "5508"
      ]
     },
     "execution_count": 14,
     "metadata": {},
     "output_type": "execute_result"
    }
   ],
   "source": [
    "17*324"
   ]
  },
  {
   "cell_type": "code",
   "execution_count": 15,
   "metadata": {},
   "outputs": [
    {
     "name": "stdout",
     "output_type": "stream",
     "text": [
      "The result is = 5508\n"
     ]
    }
   ],
   "source": [
    "print(\"The result is =\", 17*324)"
   ]
  },
  {
   "cell_type": "code",
   "execution_count": 13,
   "metadata": {},
   "outputs": [
    {
     "name": "stdout",
     "output_type": "stream",
     "text": [
      "5508\n"
     ]
    }
   ],
   "source": [
    "a,b = 17,324\n",
    "# Add the two numbers\n",
    "z = a*b\n",
    "print(z)"
   ]
  },
  {
   "cell_type": "markdown",
   "metadata": {
    "id": "zbRzQqCa42Id"
   },
   "source": [
    "> Multiply 17 by 324 and raise 3 to the power 9. Print both results in one line."
   ]
  },
  {
   "cell_type": "code",
   "execution_count": 31,
   "metadata": {
    "id": "1YTCSzSL42Ie",
    "scrolled": true
   },
   "outputs": [
    {
     "name": "stdout",
     "output_type": "stream",
     "text": [
      "17*324 = 5508 --- 3**9 = 19683\n"
     ]
    }
   ],
   "source": [
    "print(\"17*324 =\",17*324, \"--- 3**9 =\", 3**9)"
   ]
  },
  {
   "cell_type": "markdown",
   "metadata": {
    "id": "dp-Y8e9542It"
   },
   "source": [
    "You can also print text in python.\n",
    "- `string` is a separate data type.\n",
    "- And set of letters, numbers, etc. surrounded by quotes (`'` or `\"`)\n",
    "- `\\n` is a line break sign that you can use inside the string (it will not be printed)"
   ]
  },
  {
   "cell_type": "code",
   "execution_count": 20,
   "metadata": {},
   "outputs": [
    {
     "name": "stdout",
     "output_type": "stream",
     "text": [
      "My name is Anna\n",
      "My name is Anna\n"
     ]
    }
   ],
   "source": [
    "print('My name is Anna') # I print the string\n",
    "print(\"My name is Anna\") # I print the same string"
   ]
  },
  {
   "cell_type": "code",
   "execution_count": 27,
   "metadata": {
    "colab": {
     "base_uri": "https://localhost:8080/"
    },
    "id": "zwd8j4eI42It",
    "outputId": "f6f9740d-6534-4da9-e4d5-21fb0cfaa873"
   },
   "outputs": [
    {
     "name": "stdout",
     "output_type": "stream",
     "text": [
      "\n",
      "Roses are red, \n",
      "Violets are blue, \n",
      "...\n"
     ]
    }
   ],
   "source": [
    "# The string below will be printed on three lines?\n",
    "print('\\nRoses are red, \\nViolets are blue, \\n...')"
   ]
  },
  {
   "cell_type": "markdown",
   "metadata": {
    "id": "AF154-1P42Iv"
   },
   "source": [
    "> Print your full name"
   ]
  },
  {
   "cell_type": "code",
   "execution_count": 32,
   "metadata": {
    "id": "gZv6hYpA42Iv"
   },
   "outputs": [
    {
     "name": "stdout",
     "output_type": "stream",
     "text": [
      "Ivan Ivanov\n"
     ]
    }
   ],
   "source": [
    "print(\"Ivan Ivanov\")"
   ]
  },
  {
   "cell_type": "markdown",
   "metadata": {
    "id": "px0Cr7-v42Ix"
   },
   "source": [
    "> Print your full name in the followong format:\n",
    ">\n",
    "> `Surname: Ivanov`\n",
    ">\n",
    "> `Name: Ivan`"
   ]
  },
  {
   "cell_type": "code",
   "execution_count": 33,
   "metadata": {
    "id": "ebRNe6-g42Ix"
   },
   "outputs": [
    {
     "name": "stdout",
     "output_type": "stream",
     "text": [
      "Surname: Ivanov \n",
      "Name: Ivan\n"
     ]
    }
   ],
   "source": [
    "print(\"Surname: Ivanov \\nName: Ivan\")"
   ]
  },
  {
   "cell_type": "code",
   "execution_count": 34,
   "metadata": {},
   "outputs": [
    {
     "name": "stdout",
     "output_type": "stream",
     "text": [
      "Surname: Ivanov\n",
      "Name: Ivan\n"
     ]
    }
   ],
   "source": [
    "print(\"Surname: Ivanov\")\n",
    "print(\"Name: Ivan\")"
   ]
  },
  {
   "cell_type": "code",
   "execution_count": 35,
   "metadata": {},
   "outputs": [
    {
     "name": "stdout",
     "output_type": "stream",
     "text": [
      "Surname: Ivanov \n",
      "Name: Ivan\n"
     ]
    }
   ],
   "source": [
    "Surname = \"Ivanov\"\n",
    "Name = 'Ivan'\n",
    "\n",
    "print('Surname:', Surname, \"\\nName:\", Name)"
   ]
  },
  {
   "cell_type": "code",
   "execution_count": 36,
   "metadata": {},
   "outputs": [
    {
     "name": "stdout",
     "output_type": "stream",
     "text": [
      "Surname: Ivanov \n",
      "Name: Ivan\n"
     ]
    }
   ],
   "source": [
    "print(f\"Surname: {Surname} \\nName: {Name}\")"
   ]
  },
  {
   "cell_type": "markdown",
   "metadata": {
    "id": "chFzt9RgWXnE"
   },
   "source": [
    "What will happen if we sum up two string?"
   ]
  },
  {
   "cell_type": "code",
   "execution_count": 40,
   "metadata": {
    "colab": {
     "base_uri": "https://localhost:8080/",
     "height": 52
    },
    "id": "F2Ax5PbrEydb",
    "outputId": "fe77d506-14c3-407f-b0f3-34167ec1e3b0"
   },
   "outputs": [
    {
     "name": "stdout",
     "output_type": "stream",
     "text": [
      "12\n",
      "3\n"
     ]
    }
   ],
   "source": [
    "print('1' + '2')\n",
    "print(1 + 2)"
   ]
  },
  {
   "cell_type": "markdown",
   "metadata": {
    "id": "mzGqhC-o42I1"
   },
   "source": [
    "**Be carefull**\n",
    "\n",
    "- `1` is a number\n",
    "- `'1'` is a string\n",
    "- You can add object of the **same** type.\n",
    "  > `\"ap\"` + `\"ple\"` = `\"apple\"`"
   ]
  },
  {
   "cell_type": "code",
   "execution_count": 41,
   "metadata": {},
   "outputs": [
    {
     "name": "stdout",
     "output_type": "stream",
     "text": [
      "apple\n"
     ]
    }
   ],
   "source": [
    "print(\"ap\" + \"ple\")"
   ]
  },
  {
   "cell_type": "code",
   "execution_count": 42,
   "metadata": {
    "colab": {
     "base_uri": "https://localhost:8080/"
    },
    "id": "AbSwJw_m42I1",
    "outputId": "362fbcbc-ed54-4fb0-c2e9-9be4ea9bf1c6"
   },
   "outputs": [
    {
     "name": "stdout",
     "output_type": "stream",
     "text": [
      "15\n",
      "105\n",
      "105\n"
     ]
    }
   ],
   "source": [
    "print(10 + 5)  # print the number\n",
    "print('10' + '5')  # print the string\n",
    "print(str(10) + str(5))  # convert numbers to strings and print the result"
   ]
  },
  {
   "cell_type": "markdown",
   "metadata": {
    "id": "aIZryVT342I3"
   },
   "source": [
    "## Task 3.2\n",
    "\n",
    "The cell below contains and error.\n",
    "* Run the cell\n",
    "* See where the error is\n",
    "* Correct the code and run it"
   ]
  },
  {
   "cell_type": "code",
   "execution_count": 52,
   "metadata": {
    "colab": {
     "base_uri": "https://localhost:8080/",
     "height": 232
    },
    "id": "rcULad6D42I3",
    "outputId": "030c1f1e-f247-4581-9cae-a8fab0282a96"
   },
   "outputs": [
    {
     "name": "stdout",
     "output_type": "stream",
     "text": [
      "My name is John\n",
      "Today is my birthday\n"
     ]
    },
    {
     "ename": "TypeError",
     "evalue": "can only concatenate str (not \"int\") to str",
     "output_type": "error",
     "traceback": [
      "\u001b[0;31m---------------------------------------------------------------------------\u001b[0m",
      "\u001b[0;31mTypeError\u001b[0m                                 Traceback (most recent call last)",
      "Cell \u001b[0;32mIn[52], line 3\u001b[0m\n\u001b[1;32m      1\u001b[0m \u001b[38;5;28mprint\u001b[39m(\u001b[38;5;124m'\u001b[39m\u001b[38;5;124mMy name is\u001b[39m\u001b[38;5;124m'\u001b[39m \u001b[38;5;241m+\u001b[39m \u001b[38;5;124m'\u001b[39m\u001b[38;5;124m John\u001b[39m\u001b[38;5;124m'\u001b[39m)\n\u001b[1;32m      2\u001b[0m \u001b[38;5;28mprint\u001b[39m(\u001b[38;5;124m'\u001b[39m\u001b[38;5;124mToday is my birthday\u001b[39m\u001b[38;5;124m'\u001b[39m)\n\u001b[0;32m----> 3\u001b[0m \u001b[38;5;28mprint\u001b[39m(\u001b[38;5;124;43m'\u001b[39;49m\u001b[38;5;124;43mMy age is \u001b[39;49m\u001b[38;5;124;43m'\u001b[39;49m\u001b[43m \u001b[49m\u001b[38;5;241;43m+\u001b[39;49m\u001b[43m \u001b[49m\u001b[38;5;241;43m43\u001b[39;49m)\n",
      "\u001b[0;31mTypeError\u001b[0m: can only concatenate str (not \"int\") to str"
     ]
    }
   ],
   "source": [
    "print('My name is' + ' John')\n",
    "print('Today is my birthday')\n",
    "print('My age is ' + 43)"
   ]
  },
  {
   "cell_type": "code",
   "execution_count": null,
   "metadata": {},
   "outputs": [],
   "source": []
  },
  {
   "cell_type": "code",
   "execution_count": null,
   "metadata": {},
   "outputs": [],
   "source": []
  },
  {
   "cell_type": "markdown",
   "metadata": {},
   "source": [
    "# 4. Variables\n",
    "\n",
    "We already know how to print text via Python."
   ]
  },
  {
   "cell_type": "code",
   "execution_count": 53,
   "metadata": {},
   "outputs": [
    {
     "name": "stdout",
     "output_type": "stream",
     "text": [
      "Hello, world!\n"
     ]
    }
   ],
   "source": [
    "print('Hello, world!')"
   ]
  },
  {
   "cell_type": "markdown",
   "metadata": {},
   "source": [
    "We may notice that every time we print something via print function, Python prints it on a new line. Let's print some short poem."
   ]
  },
  {
   "cell_type": "code",
   "execution_count": 54,
   "metadata": {},
   "outputs": [
    {
     "name": "stdout",
     "output_type": "stream",
     "text": [
      "Two toads, terribly tired\n",
      "Trotted along the road\n",
      "Said toad number one\n",
      "To the toad number two\n",
      "I am tired,\n",
      "And I am carrying the load\n"
     ]
    }
   ],
   "source": [
    "print('Two toads, terribly tired')\n",
    "print('Trotted along the road')\n",
    "print('Said toad number one')\n",
    "print('To the toad number two')\n",
    "print('I am tired,')\n",
    "print('And I am carrying the load')"
   ]
  },
  {
   "cell_type": "markdown",
   "metadata": {},
   "source": [
    "However, it is not always useful to actually print the text every time we want to use it. We can store something in the computer memory and ask computer to give us the value when we need it. Such stored values are called **variables**."
   ]
  },
  {
   "cell_type": "code",
   "execution_count": 55,
   "metadata": {},
   "outputs": [
    {
     "name": "stdout",
     "output_type": "stream",
     "text": [
      "to be\n",
      "or not\n",
      "to be\n",
      "?\n"
     ]
    }
   ],
   "source": [
    "text = 'to be' # let's store text 'to be' into the variable called `text`\n",
    "\n",
    "print(text) # print the variable contents\n",
    "print('or not')\n",
    "print(text) # and once more\n",
    "print('?')"
   ]
  },
  {
   "cell_type": "code",
   "execution_count": 56,
   "metadata": {},
   "outputs": [
    {
     "data": {
      "text/plain": [
       "'to be'"
      ]
     },
     "execution_count": 56,
     "metadata": {},
     "output_type": "execute_result"
    }
   ],
   "source": [
    "text"
   ]
  },
  {
   "cell_type": "markdown",
   "metadata": {},
   "source": [
    "Now let's find out how to give some information to python. Let's write a program that will help us design invitation letters to a party. This program should ask for a name of an invitee and then put it inside the text template.\n",
    "\n",
    "1. Via `input()` function we ask Python to create a prompt where we will be able to type something. After the name is typed in, we will store it in the `name` variable.\n",
    "2. Then we will ask Python to print a greeting and `name` contents on the same line.\n",
    "3. Then we will print the rest of the invitation."
   ]
  },
  {
   "cell_type": "code",
   "execution_count": 59,
   "metadata": {},
   "outputs": [
    {
     "name": "stdout",
     "output_type": "stream",
     "text": [
      "Anna\n",
      "Hi, Anna\n",
      "You're invited to the Cognitive Science Department party on Tuesday. Room online\n"
     ]
    }
   ],
   "source": [
    "name = input()\n",
    "print('Hi,', name)\n",
    "\n",
    "print(\"You're invited to the Cognitive Science Department party on Tuesday. Room online\")"
   ]
  },
  {
   "cell_type": "markdown",
   "metadata": {},
   "source": [
    "If we want Python to hint what it is expecting from us, we can put a hint text inside the parentheses of the `input()` function."
   ]
  },
  {
   "cell_type": "code",
   "execution_count": null,
   "metadata": {},
   "outputs": [],
   "source": [
    "{}     # Sets, Dictionary\n",
    "[]     # list, array, indexing\n",
    "()     # Defining the arguments and parameters of functions"
   ]
  },
  {
   "cell_type": "code",
   "execution_count": 60,
   "metadata": {},
   "outputs": [
    {
     "name": "stdout",
     "output_type": "stream",
     "text": [
      "Please type in name: Anna\n",
      "Hi, Anna\n",
      "You're invited to the Cognitive Science Department party on Tuesday. Room online\n"
     ]
    }
   ],
   "source": [
    "temp = input('Please type in name: ') # now it will give us a hint what does it want us to type\n",
    "print('Hi,', temp)\n",
    "print(\"You're invited to the Cognitive Science Department party on Tuesday. Room online\")"
   ]
  },
  {
   "cell_type": "markdown",
   "metadata": {},
   "source": [
    "Please note that we have used different quotation marks in the invitation text. We've used double quotation marks to signal Python that this is the text, because we need to use single quotation mark inside the text as an apostrophe.\n",
    "\n",
    "If we use only single quotes in this case, we will get an error."
   ]
  },
  {
   "cell_type": "code",
   "execution_count": 64,
   "metadata": {},
   "outputs": [
    {
     "name": "stdout",
     "output_type": "stream",
     "text": [
      "Please type in name: Anna\n",
      "Hi, Anna\n",
      "You're invited to the Cognitive Science Department party on Wednesday. Room online\n"
     ]
    }
   ],
   "source": [
    "name = input('Please type in name: ')\n",
    "print('Hi,', name)\n",
    "\n",
    "print('You\\'re invited to the Cognitive Science Department party on Wednesday. Room online')"
   ]
  },
  {
   "cell_type": "markdown",
   "metadata": {},
   "source": [
    "We can see that Python is trying to show us where excatly is the problem in the code. And also it tells us that it is a `SyntaxError: invalid syntax` error. It means that we made a mistake with some Python specific punctuation. In our case, we, unfortunately, mixed the quotation marks."
   ]
  },
  {
   "cell_type": "markdown",
   "metadata": {},
   "source": [
    "If we make mistake in the variable name, we will get another error. Let's try."
   ]
  },
  {
   "cell_type": "code",
   "execution_count": null,
   "metadata": {
    "scrolled": true
   },
   "outputs": [],
   "source": [
    "temp = input('Please type in name: ')\n",
    "print('Hi,', Temp) # we are calling 'Name' variable instead of 'name' variable\n",
    "print(\"You're invited to the Cognitive Science Department party on Saturday. Room 602\")"
   ]
  },
  {
   "cell_type": "code",
   "execution_count": 65,
   "metadata": {},
   "outputs": [
    {
     "ename": "SyntaxError",
     "evalue": "invalid decimal literal (4257193039.py, line 1)",
     "output_type": "error",
     "traceback": [
      "\u001b[0;36m  Cell \u001b[0;32mIn[65], line 1\u001b[0;36m\u001b[0m\n\u001b[0;31m    1st_name = input('Your first name: ')\u001b[0m\n\u001b[0m    ^\u001b[0m\n\u001b[0;31mSyntaxError\u001b[0m\u001b[0;31m:\u001b[0m invalid decimal literal\n"
     ]
    }
   ],
   "source": [
    "1st_name = input('Your first name: ')\n",
    "last_name = input('Your last name: ')\n",
    "print('Hi,', 1st_name, last_name)"
   ]
  },
  {
   "cell_type": "markdown",
   "metadata": {},
   "source": [
    "In this case we will get a `SyntaxError`."
   ]
  },
  {
   "cell_type": "markdown",
   "metadata": {},
   "source": [
    "**Note:** Do not use keywords as the variables. "
   ]
  },
  {
   "cell_type": "code",
   "execution_count": 66,
   "metadata": {},
   "outputs": [],
   "source": [
    "import keyword"
   ]
  },
  {
   "cell_type": "code",
   "execution_count": 67,
   "metadata": {},
   "outputs": [
    {
     "name": "stdout",
     "output_type": "stream",
     "text": [
      "['False', 'None', 'True', 'and', 'as', 'assert', 'async', 'await', 'break', 'class', 'continue', 'def', 'del', 'elif', 'else', 'except', 'finally', 'for', 'from', 'global', 'if', 'import', 'in', 'is', 'lambda', 'nonlocal', 'not', 'or', 'pass', 'raise', 'return', 'try', 'while', 'with', 'yield']\n"
     ]
    }
   ],
   "source": [
    "print(keyword.kwlist)"
   ]
  },
  {
   "cell_type": "code",
   "execution_count": 68,
   "metadata": {},
   "outputs": [
    {
     "name": "stdout",
     "output_type": "stream",
     "text": [
      "35\n"
     ]
    }
   ],
   "source": [
    "print(len(keyword.kwlist))"
   ]
  }
 ],
 "metadata": {
  "colab": {
   "provenance": []
  },
  "kernelspec": {
   "display_name": "Python 3 (ipykernel)",
   "language": "python",
   "name": "python3"
  },
  "language_info": {
   "codemirror_mode": {
    "name": "ipython",
    "version": 3
   },
   "file_extension": ".py",
   "mimetype": "text/x-python",
   "name": "python",
   "nbconvert_exporter": "python",
   "pygments_lexer": "ipython3",
   "version": "3.10.9"
  }
 },
 "nbformat": 4,
 "nbformat_minor": 1
}
